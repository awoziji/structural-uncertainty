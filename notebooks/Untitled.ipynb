{
 "cells": [
  {
   "cell_type": "code",
   "execution_count": 171,
   "metadata": {},
   "outputs": [],
   "source": [
    "import torch\n",
    "import torch.nn as nn\n",
    "import torch.optim as optim\n",
    "\n",
    "import torchvision.transforms as transforms\n",
    "import torchvision.datasets as dsets\n",
    "\n",
    "import torch.nn.functional as F\n",
    "from torchvision import datasets, transforms\n",
    "\n",
    "import numpy as np\n",
    "import matplotlib.pyplot as plt\n",
    "%matplotlib inline\n",
    "%config InlineBackend.figure_format = 'retina'"
   ]
  },
  {
   "cell_type": "code",
   "execution_count": 2,
   "metadata": {},
   "outputs": [],
   "source": [
    "torch.manual_seed(232)\n",
    "use_gpu = False"
   ]
  },
  {
   "cell_type": "code",
   "execution_count": 3,
   "metadata": {},
   "outputs": [],
   "source": [
    "transform = transforms.Compose([transforms.ToTensor(), transforms.Normalize((0.1307,), (0.3081,))])\n",
    "\n",
    "trainset = datasets.FashionMNIST(root='./data', train=True,\n",
    "                                        download=True, transform=transform)\n",
    "\n",
    "testset = datasets.FashionMNIST(root='./data', train=False,\n",
    "                                       download=True, transform=transform)\n",
    "\n",
    "train_loader = torch.utils.data.DataLoader(trainset, batch_size=batch_size,\n",
    "                                          shuffle=True, num_workers=4)\n",
    "test_loader = torch.utils.data.DataLoader(testset, batch_size=batch_size,\n",
    "                                         shuffle=False, num_workers=4)"
   ]
  },
  {
   "cell_type": "code",
   "execution_count": 4,
   "metadata": {},
   "outputs": [
    {
     "data": {
      "image/png": "[encoded data removed]",
      "text/plain": [
       "<Figure size 432x288 with 1 Axes>"
      ]
     },
     "metadata": {
      "image/png": {
       "height": 263,
       "width": 253
      }
     },
     "output_type": "display_data"
    }
   ],
   "source": [
    "plt.imshow(train_loader.dataset.train_data[0].numpy(), cmap='gray')\n",
    "plt.title('%i' % train_loader.dataset.train_labels[0])\n",
    "plt.show()"
   ]
  },
  {
   "cell_type": "code",
   "execution_count": 5,
   "metadata": {},
   "outputs": [],
   "source": [
    "class Net(nn.Module):\n",
    "    def __init__(self, input_size, hidden_size, z_size, output_size, dropout_p=0.1):\n",
    "        super(Net, self).__init__()\n",
    "        self.dropout_p = dropout_p\n",
    "        self.fc1 = nn.Linear(input_size, hidden_size) \n",
    "        self.fc2 = nn.Linear(hidden_size, z_size)\n",
    "        self.fc3 = nn.Linear(z_size, hidden_size)\n",
    "        self.fc4 = nn.Linear(hidden_size, output_size)\n",
    "        \n",
    "    def forward(self, x):\n",
    "        x = F.dropout(x, p=self.dropout_p, training=True)\n",
    "        x = self.fc1(x)\n",
    "        x = F.relu(x)\n",
    "        x = F.dropout(x, p=self.dropout_p, training=True)\n",
    "        x = self.fc2(x)\n",
    "        #x = F.relu(x)\n",
    "        x = F.dropout(x, p=self.dropout_p, training=True)\n",
    "        x = self.fc3(x)\n",
    "        x = F.dropout(x, p=self.dropout_p, training=True)\n",
    "        y = self.fc4(x)\n",
    "        \n",
    "        return y    "
   ]
  },
  {
   "cell_type": "code",
   "execution_count": 177,
   "metadata": {},
   "outputs": [],
   "source": [
    "class Net(nn.Module):\n",
    "    def __init__(self, input_size, hidden_size, z_size, output_size, dropout_p=0.1):\n",
    "        super(Net, self).__init__()\n",
    "        self.dropout_p = dropout_p\n",
    "        self.fc1 = nn.Linear(input_size, z_size) \n",
    "        self.fc2 = nn.Linear(z_size, output_size)\n",
    "        \n",
    "    def forward(self, x):\n",
    "        x = F.dropout(x, p=self.dropout_p, training=True)\n",
    "        x = self.fc1(x)\n",
    "        x = F.relu(x)\n",
    "        x = self.fc2(x)\n",
    "        \n",
    "        return x   "
   ]
  },
  {
   "cell_type": "code",
   "execution_count": 178,
   "metadata": {},
   "outputs": [],
   "source": [
    "# Hyper Parameters \n",
    "input_size = 784\n",
    "hidden_size = 200\n",
    "z_size = 50\n",
    "output_size = 784\n",
    "num_epochs = 100\n",
    "batch_size = 100\n",
    "learning_rate = 0.01\n",
    "dropout = 0.1"
   ]
  },
  {
   "cell_type": "code",
   "execution_count": 179,
   "metadata": {},
   "outputs": [],
   "source": [
    "model = Net(input_size=input_size,\n",
    "            hidden_size=hidden_size,\n",
    "            z_size=z_size,\n",
    "            output_size=output_size,\n",
    "            dropout_p=dropout)\n",
    "\n",
    "optimizer = torch.optim.SGD(model.parameters(), lr=learning_rate,  weight_decay = 0.0,momentum=0.9)\n",
    "#optimizer = torch.optim.Adam(model.parameters(), lr=0.0001, betas=(0.9, 0.99), eps=1e-08, weight_decay=0, amsgrad=True)\n",
    "scheduler = torch.optim.lr_scheduler.MultiStepLR(optimizer,\n",
    "                                                 milestones=[70,90], \n",
    "                                                 gamma=0.1)\n",
    "loss_criterion = torch.nn.MSELoss()"
   ]
  },
  {
   "cell_type": "code",
   "execution_count": 180,
   "metadata": {},
   "outputs": [
    {
     "name": "stdout",
     "output_type": "stream",
     "text": [
      "Epoch 1/100, \n",
      "    trainloss: 0.7274774312973022, \n",
      "    testloss : 0.49343979358673096\n",
      "Epoch 2/100, \n",
      "    trainloss: 0.4457617700099945, \n",
      "    testloss : 0.4070061147212982\n",
      "Epoch 3/100, \n",
      "    trainloss: 0.3811880350112915, \n",
      "    testloss : 0.35449331998825073\n",
      "Epoch 4/100, \n",
      "    trainloss: 0.3367595970630646, \n",
      "    testloss : 0.3198733329772949\n",
      "Epoch 5/100, \n",
      "    trainloss: 0.30935904383659363, \n",
      "    testloss : 0.29845377802848816\n",
      "Epoch 6/100, \n",
      "    trainloss: 0.2911399304866791, \n",
      "    testloss : 0.283063679933548\n",
      "Epoch 7/100, \n",
      "    trainloss: 0.27773573994636536, \n",
      "    testloss : 0.27172237634658813\n",
      "Epoch 8/100, \n",
      "    trainloss: 0.2676582336425781, \n",
      "    testloss : 0.2631188631057739\n",
      "Epoch 9/100, \n",
      "    trainloss: 0.25980499386787415, \n",
      "    testloss : 0.25621676445007324\n",
      "Epoch 10/100, \n",
      "    trainloss: 0.2533382773399353, \n",
      "    testloss : 0.2503514587879181\n",
      "Epoch 11/100, \n",
      "    trainloss: 0.24787403643131256, \n",
      "    testloss : 0.24531450867652893\n",
      "Epoch 12/100, \n",
      "    trainloss: 0.24309730529785156, \n",
      "    testloss : 0.24088799953460693\n",
      "Epoch 13/100, \n",
      "    trainloss: 0.23885956406593323, \n",
      "    testloss : 0.23686376214027405\n",
      "Epoch 14/100, \n",
      "    trainloss: 0.23505137860774994, \n",
      "    testloss : 0.23321889340877533\n",
      "Epoch 15/100, \n",
      "    trainloss: 0.23151522874832153, \n",
      "    testloss : 0.22984251379966736\n",
      "Epoch 16/100, \n",
      "    trainloss: 0.22826580703258514, \n",
      "    testloss : 0.22666865587234497\n",
      "Epoch 17/100, \n",
      "    trainloss: 0.22525380551815033, \n",
      "    testloss : 0.2238510549068451\n",
      "Epoch 18/100, \n",
      "    trainloss: 0.22245021164417267, \n",
      "    testloss : 0.22109782695770264\n",
      "Epoch 19/100, \n",
      "    trainloss: 0.21987399458885193, \n",
      "    testloss : 0.21861061453819275\n",
      "Epoch 20/100, \n",
      "    trainloss: 0.21747134625911713, \n",
      "    testloss : 0.2162768393754959\n",
      "Epoch 21/100, \n",
      "    trainloss: 0.21523965895175934, \n",
      "    testloss : 0.2141181230545044\n",
      "Epoch 22/100, \n",
      "    trainloss: 0.21319033205509186, \n",
      "    testloss : 0.21219967305660248\n",
      "Epoch 23/100, \n",
      "    trainloss: 0.21122059226036072, \n",
      "    testloss : 0.21024225652217865\n",
      "Epoch 24/100, \n",
      "    trainloss: 0.20939938724040985, \n",
      "    testloss : 0.20853295922279358\n",
      "Epoch 25/100, \n",
      "    trainloss: 0.20765776932239532, \n",
      "    testloss : 0.20684747397899628\n",
      "Epoch 26/100, \n",
      "    trainloss: 0.20604534447193146, \n",
      "    testloss : 0.2053305208683014\n",
      "Epoch 27/100, \n",
      "    trainloss: 0.20448614656925201, \n",
      "    testloss : 0.2037525177001953\n",
      "Epoch 28/100, \n",
      "    trainloss: 0.20306608080863953, \n",
      "    testloss : 0.20239266753196716\n",
      "Epoch 29/100, \n",
      "    trainloss: 0.20165151357650757, \n",
      "    testloss : 0.20093046128749847\n",
      "Epoch 30/100, \n",
      "    trainloss: 0.20034416019916534, \n",
      "    testloss : 0.19968195259571075\n",
      "Epoch 31/100, \n",
      "    trainloss: 0.19906777143478394, \n",
      "    testloss : 0.1985044926404953\n",
      "Epoch 32/100, \n",
      "    trainloss: 0.1978706568479538, \n",
      "    testloss : 0.19729594886302948\n",
      "Epoch 33/100, \n",
      "    trainloss: 0.19667388498783112, \n",
      "    testloss : 0.1961437463760376\n",
      "Epoch 34/100, \n",
      "    trainloss: 0.19555723667144775, \n",
      "    testloss : 0.1949830949306488\n",
      "Epoch 35/100, \n",
      "    trainloss: 0.19448700547218323, \n",
      "    testloss : 0.1939561665058136\n",
      "Epoch 36/100, \n",
      "    trainloss: 0.19342872500419617, \n",
      "    testloss : 0.19289229810237885\n",
      "Epoch 37/100, \n",
      "    trainloss: 0.192387193441391, \n",
      "    testloss : 0.19196464121341705\n",
      "Epoch 38/100, \n",
      "    trainloss: 0.19140858948230743, \n",
      "    testloss : 0.19101744890213013\n",
      "Epoch 39/100, \n",
      "    trainloss: 0.19048991799354553, \n",
      "    testloss : 0.19006197154521942\n",
      "Epoch 40/100, \n",
      "    trainloss: 0.1895390897989273, \n",
      "    testloss : 0.18912619352340698\n",
      "Epoch 41/100, \n",
      "    trainloss: 0.1886611133813858, \n",
      "    testloss : 0.1882423609495163\n",
      "Epoch 42/100, \n",
      "    trainloss: 0.18776804208755493, \n",
      "    testloss : 0.18738025426864624\n",
      "Epoch 43/100, \n",
      "    trainloss: 0.18691283464431763, \n",
      "    testloss : 0.18659301102161407\n",
      "Epoch 44/100, \n",
      "    trainloss: 0.1860736906528473, \n",
      "    testloss : 0.18574188649654388\n",
      "Epoch 45/100, \n",
      "    trainloss: 0.18525579571723938, \n",
      "    testloss : 0.18487778306007385\n",
      "Epoch 46/100, \n",
      "    trainloss: 0.18447169661521912, \n",
      "    testloss : 0.18415208160877228\n",
      "Epoch 47/100, \n",
      "    trainloss: 0.18371383845806122, \n",
      "    testloss : 0.1833951324224472\n",
      "Epoch 48/100, \n",
      "    trainloss: 0.18294255435466766, \n",
      "    testloss : 0.18261423707008362\n",
      "Epoch 49/100, \n",
      "    trainloss: 0.18222592771053314, \n",
      "    testloss : 0.18181397020816803\n",
      "Epoch 50/100, \n",
      "    trainloss: 0.18150576949119568, \n",
      "    testloss : 0.18121951818466187\n",
      "Epoch 51/100, \n",
      "    trainloss: 0.1808016151189804, \n",
      "    testloss : 0.18049776554107666\n",
      "Epoch 52/100, \n",
      "    trainloss: 0.18013618886470795, \n",
      "    testloss : 0.17981788516044617\n",
      "Epoch 53/100, \n",
      "    trainloss: 0.17946578562259674, \n",
      "    testloss : 0.1791776716709137\n",
      "Epoch 54/100, \n",
      "    trainloss: 0.17882601916790009, \n",
      "    testloss : 0.17850030958652496\n",
      "Epoch 55/100, \n",
      "    trainloss: 0.17818130552768707, \n",
      "    testloss : 0.17792749404907227\n",
      "Epoch 56/100, \n",
      "    trainloss: 0.17756207287311554, \n",
      "    testloss : 0.17728397250175476\n",
      "Epoch 57/100, \n",
      "    trainloss: 0.176972895860672, \n",
      "    testloss : 0.1767643392086029\n",
      "Epoch 58/100, \n",
      "    trainloss: 0.17639724910259247, \n",
      "    testloss : 0.17621253430843353\n",
      "Epoch 59/100, \n",
      "    trainloss: 0.1758241206407547, \n",
      "    testloss : 0.1755022406578064\n",
      "Epoch 60/100, \n",
      "    trainloss: 0.17526644468307495, \n",
      "    testloss : 0.1750970333814621\n",
      "Epoch 61/100, \n",
      "    trainloss: 0.17474296689033508, \n",
      "    testloss : 0.1745530515909195\n",
      "Epoch 62/100, \n",
      "    trainloss: 0.17422839999198914, \n",
      "    testloss : 0.17405037581920624\n",
      "Epoch 63/100, \n",
      "    trainloss: 0.17376741766929626, \n",
      "    testloss : 0.17354242503643036\n",
      "Epoch 64/100, \n",
      "    trainloss: 0.17327865958213806, \n",
      "    testloss : 0.17313827574253082\n",
      "Epoch 65/100, \n",
      "    trainloss: 0.1728140264749527, \n",
      "    testloss : 0.1726461946964264\n",
      "Epoch 66/100, \n",
      "    trainloss: 0.1723911315202713, \n",
      "    testloss : 0.17230774462223053\n",
      "Epoch 67/100, \n",
      "    trainloss: 0.171983003616333, \n",
      "    testloss : 0.17192614078521729\n",
      "Epoch 68/100, \n",
      "    trainloss: 0.17159321904182434, \n",
      "    testloss : 0.17153993248939514\n",
      "Epoch 69/100, \n",
      "    trainloss: 0.1711958348751068, \n",
      "    testloss : 0.1711433231830597\n",
      "Epoch 70/100, \n",
      "    trainloss: 0.17082661390304565, \n",
      "    testloss : 0.1707986444234848\n",
      "Epoch 71/100, \n",
      "    trainloss: 0.17051613330841064, \n",
      "    testloss : 0.17041008174419403\n",
      "Epoch 72/100, \n",
      "    trainloss: 0.17001958191394806, \n",
      "    testloss : 0.17009413242340088\n",
      "Epoch 73/100, \n",
      "    trainloss: 0.16992582380771637, \n",
      "    testloss : 0.1700795292854309\n",
      "Epoch 74/100, \n",
      "    trainloss: 0.16988566517829895, \n",
      "    testloss : 0.16999325156211853\n",
      "Epoch 75/100, \n",
      "    trainloss: 0.16989754140377045, \n",
      "    testloss : 0.16999605298042297\n",
      "Epoch 76/100, \n",
      "    trainloss: 0.16985496878623962, \n",
      "    testloss : 0.16996170580387115\n",
      "Epoch 77/100, \n",
      "    trainloss: 0.16979914903640747, \n",
      "    testloss : 0.1699574589729309\n",
      "Epoch 78/100, \n",
      "    trainloss: 0.1697617918252945, \n",
      "    testloss : 0.16987793147563934\n",
      "Epoch 79/100, \n",
      "    trainloss: 0.16973751783370972, \n",
      "    testloss : 0.1698327511548996\n",
      "Epoch 80/100, \n",
      "    trainloss: 0.16970127820968628, \n",
      "    testloss : 0.1698838621377945\n",
      "Epoch 81/100, \n",
      "    trainloss: 0.16964523494243622, \n",
      "    testloss : 0.16978120803833008\n",
      "Epoch 82/100, \n",
      "    trainloss: 0.16963526606559753, \n",
      "    testloss : 0.1697656214237213\n",
      "Epoch 83/100, \n",
      "    trainloss: 0.16959476470947266, \n",
      "    testloss : 0.16976143419742584\n",
      "Epoch 84/100, \n",
      "    trainloss: 0.16957762837409973, \n",
      "    testloss : 0.16973373293876648\n",
      "Epoch 85/100, \n",
      "    trainloss: 0.16954763233661652, \n",
      "    testloss : 0.16964344680309296\n",
      "Epoch 86/100, \n",
      "    trainloss: 0.16949142515659332, \n",
      "    testloss : 0.1696210652589798\n",
      "Epoch 87/100, \n",
      "    trainloss: 0.1694716066122055, \n",
      "    testloss : 0.1696179062128067\n",
      "Epoch 88/100, \n",
      "    trainloss: 0.16941718757152557, \n",
      "    testloss : 0.16959571838378906\n",
      "Epoch 89/100, \n",
      "    trainloss: 0.1693970263004303, \n",
      "    testloss : 0.16949225962162018\n",
      "Epoch 90/100, \n",
      "    trainloss: 0.1693691611289978, \n",
      "    testloss : 0.16954505443572998\n",
      "Epoch 91/100, \n",
      "    trainloss: 0.16934669017791748, \n",
      "    testloss : 0.16949039697647095\n",
      "Epoch 92/100, \n",
      "    trainloss: 0.16927845776081085, \n",
      "    testloss : 0.16942356526851654\n",
      "Epoch 93/100, \n",
      "    trainloss: 0.1692761778831482, \n",
      "    testloss : 0.1694640964269638\n",
      "Epoch 94/100, \n",
      "    trainloss: 0.16928286850452423, \n",
      "    testloss : 0.16940750181674957\n",
      "Epoch 95/100, \n",
      "    trainloss: 0.16926467418670654, \n",
      "    testloss : 0.16940945386886597\n"
     ]
    },
    {
     "name": "stdout",
     "output_type": "stream",
     "text": [
      "Epoch 96/100, \n",
      "    trainloss: 0.16929112374782562, \n",
      "    testloss : 0.1694055050611496\n",
      "Epoch 97/100, \n",
      "    trainloss: 0.1692592054605484, \n",
      "    testloss : 0.16946099698543549\n",
      "Epoch 98/100, \n",
      "    trainloss: 0.1692664623260498, \n",
      "    testloss : 0.1694115698337555\n",
      "Epoch 99/100, \n",
      "    trainloss: 0.16927075386047363, \n",
      "    testloss : 0.16941173374652863\n",
      "Epoch 100/100, \n",
      "    trainloss: 0.16925416886806488, \n",
      "    testloss : 0.16934923827648163\n"
     ]
    }
   ],
   "source": [
    "mean_trainloss, std_trainloss = [], []\n",
    "mean_testloss, std_testloss = [], []\n",
    "# Train the Model\n",
    "for epoch in range(num_epochs):\n",
    "    #Train step\n",
    "    model.train()\n",
    "    epoch_trainloss = []\n",
    "    for train_images, train_labels in train_loader:  \n",
    "        if use_gpu:\n",
    "            train_images, train_labels = train_images.cuda(), train_labels.cuda()\n",
    "        # Convert torch tensor to Variable\n",
    "        train_images = train_images.view(-1, 28*28)\n",
    "        train_labels = train_images\n",
    "        \n",
    "        # Forward + Backward + Optimize\n",
    "        optimizer.zero_grad()  # zero the gradient buffer\n",
    "        train_outputs = model(train_images)\n",
    "        train_loss = loss_criterion(train_outputs, train_labels)\n",
    "        train_loss.backward()\n",
    "        optimizer.step()\n",
    "        \n",
    "        epoch_trainloss.append(train_loss.detach().numpy())\n",
    "    mean_trainloss.append(np.mean(epoch_trainloss))\n",
    "    std_trainloss.append(np.std(epoch_trainloss))\n",
    "    scheduler.step()\n",
    "        \n",
    "    #Test step\n",
    "    model.eval()\n",
    "    epoch_testloss = []\n",
    "    for test_images, test_labels in test_loader:\n",
    "        if use_gpu:\n",
    "            train_images, train_labels = train_images.cuda(), train_labels.cuda()\n",
    "        test_images = test_images.view(-1, 28*28)\n",
    "        test_labels = test_images\n",
    "        \n",
    "        #Forward\n",
    "        test_outputs = model(test_images)\n",
    "        test_loss = loss_criterion(test_outputs, test_labels)\n",
    "        epoch_testloss.append(test_loss.detach().numpy())\n",
    "    mean_testloss.append(np.mean(epoch_testloss))\n",
    "    std_testloss.append(np.std(epoch_testloss))\n",
    "    \n",
    "    print (f'''Epoch {epoch+1}/{num_epochs}, \n",
    "    trainloss: {np.mean(epoch_trainloss)}, \n",
    "    testloss : {np.mean(epoch_testloss)}''')"
   ]
  },
  {
   "cell_type": "code",
   "execution_count": 187,
   "metadata": {},
   "outputs": [
    {
     "data": {
      "text/plain": [
       "<matplotlib.image.AxesImage at 0x7068a45a6860>"
      ]
     },
     "execution_count": 187,
     "metadata": {},
     "output_type": "execute_result"
    },
    {
     "data": {
      "image/png": "[encoded data removed]",
      "text/plain": [
       "<Figure size 432x288 with 1 Axes>"
      ]
     },
     "metadata": {
      "image/png": {
       "height": 250,
       "width": 253
      }
     },
     "output_type": "display_data"
    }
   ],
   "source": [
    "i = 3\n",
    "\n",
    "test_outputs = model(test_images)\n",
    "\n",
    "\n",
    "t = test_images[i].detach().numpy()\n",
    "lol=test_outputs[i].detach().numpy()\n",
    "\n",
    "plt.imshow(np.reshape(t,newshape=[28,28]))"
   ]
  },
  {
   "cell_type": "code",
   "execution_count": 188,
   "metadata": {},
   "outputs": [
    {
     "data": {
      "text/plain": [
       "<matplotlib.image.AxesImage at 0x7068a4627240>"
      ]
     },
     "execution_count": 188,
     "metadata": {},
     "output_type": "execute_result"
    },
    {
     "data": {
      "image/png": "[encoded data removed]",
      "text/plain": [
       "<Figure size 432x288 with 1 Axes>"
      ]
     },
     "metadata": {
      "image/png": {
       "height": 250,
       "width": 253
      }
     },
     "output_type": "display_data"
    }
   ],
   "source": [
    "plt.imshow(np.reshape(lol,newshape=[28,28]))"
   ]
  },
  {
   "cell_type": "code",
   "execution_count": 189,
   "metadata": {},
   "outputs": [],
   "source": [
    "N = 1000\n",
    "results = np.zeros([N,784])\n",
    "for j in range(N):\n",
    "    output = model(test_images)\n",
    "    results[j,:]=output[i].detach().numpy()"
   ]
  },
  {
   "cell_type": "code",
   "execution_count": 190,
   "metadata": {},
   "outputs": [
    {
     "data": {
      "text/plain": [
       "<matplotlib.image.AxesImage at 0x7068a49fd588>"
      ]
     },
     "execution_count": 190,
     "metadata": {},
     "output_type": "execute_result"
    },
    {
     "data": {
      "image/png": "[encoded data removed]",
      "text/plain": [
       "<Figure size 432x288 with 1 Axes>"
      ]
     },
     "metadata": {
      "image/png": {
       "height": 250,
       "width": 253
      }
     },
     "output_type": "display_data"
    }
   ],
   "source": [
    "final_mean = np.mean(results,axis=0)\n",
    "final_std = np.std(results,axis=0)\n",
    "plt.imshow(np.reshape(final_mean,newshape=[28,28]))"
   ]
  },
  {
   "cell_type": "code",
   "execution_count": 186,
   "metadata": {},
   "outputs": [
    {
     "data": {
      "text/plain": [
       "<matplotlib.image.AxesImage at 0x7068a535d1d0>"
      ]
     },
     "execution_count": 186,
     "metadata": {},
     "output_type": "execute_result"
    },
    {
     "data": {
      "image/png": "[encoded data removed]",
      "text/plain": [
       "<Figure size 432x288 with 1 Axes>"
      ]
     },
     "metadata": {
      "image/png": {
       "height": 250,
       "width": 253
      }
     },
     "output_type": "display_data"
    }
   ],
   "source": [
    "plt.imshow(np.reshape(final_std,newshape=[28,28]))"
   ]
  },
  {
   "cell_type": "code",
   "execution_count": 2,
   "metadata": {},
   "outputs": [
    {
     "ename": "ModuleNotFoundError",
     "evalue": "No module named 'z24_dataset'",
     "output_type": "error",
     "traceback": [
      "\u001b[0;31m---------------------------------------------------------------------------\u001b[0m",
      "\u001b[0;31mModuleNotFoundError\u001b[0m                       Traceback (most recent call last)",
      "\u001b[0;32m<ipython-input-2-a2ab3ecdb63f>\u001b[0m in \u001b[0;36m<module>\u001b[0;34m()\u001b[0m\n\u001b[1;32m      8\u001b[0m \u001b[0;32mfrom\u001b[0m \u001b[0mtorch\u001b[0m\u001b[0;34m.\u001b[0m\u001b[0mutils\u001b[0m\u001b[0;34m.\u001b[0m\u001b[0mdata\u001b[0m \u001b[0;32mimport\u001b[0m \u001b[0mDataset\u001b[0m\u001b[0;34m,\u001b[0m \u001b[0mDataLoader\u001b[0m\u001b[0;34m\u001b[0m\u001b[0m\n\u001b[1;32m      9\u001b[0m \u001b[0;34m\u001b[0m\u001b[0m\n\u001b[0;32m---> 10\u001b[0;31m \u001b[0;32mfrom\u001b[0m \u001b[0mz24_dataset\u001b[0m \u001b[0;32mimport\u001b[0m \u001b[0mz24Dataset\u001b[0m\u001b[0;34m\u001b[0m\u001b[0m\n\u001b[0m",
      "\u001b[0;31mModuleNotFoundError\u001b[0m: No module named 'z24_dataset'"
     ]
    }
   ],
   "source": [
    "import numpy as np\n",
    "import os\n",
    "import torch\n",
    "import torch.nn as nn\n",
    "import torch.optim as optim\n",
    "import torch.nn.init as init\n",
    "import torch.nn.functional as F\n",
    "from torch.utils.data import Dataset, DataLoader\n",
    "\n",
    "from z24_dataset import z24Dataset"
   ]
  },
  {
   "cell_type": "code",
   "execution_count": null,
   "metadata": {},
   "outputs": [],
   "source": []
  }
 ],
 "metadata": {
  "kernelspec": {
   "display_name": "Python 3",
   "language": "python",
   "name": "python3"
  },
  "language_info": {
   "codemirror_mode": {
    "name": "ipython",
    "version": 3
   },
   "file_extension": ".py",
   "mimetype": "text/x-python",
   "name": "python",
   "nbconvert_exporter": "python",
   "pygments_lexer": "ipython3",
   "version": "3.6.4"
  }
 },
 "nbformat": 4,
 "nbformat_minor": 2
}
