{
 "cells": [
  {
   "cell_type": "code",
   "execution_count": 1,
   "metadata": {},
   "outputs": [],
   "source": [
    "import os\n",
    "import torch\n",
    "import torch.nn as nn\n",
    "import torch.optim as optim\n",
    "\n",
    "import torch.nn.functional as F\n",
    "from torch.utils.data import Dataset, DataLoader\n",
    "\n",
    "import numpy as np\n",
    "import matplotlib.pyplot as plt\n",
    "\n",
    "%matplotlib inline\n",
    "%config InlineBackend.figure_format = 'retina'"
   ]
  },
  {
   "cell_type": "code",
   "execution_count": null,
   "metadata": {},
   "outputs": [],
   "source": []
  },
  {
   "cell_type": "code",
   "execution_count": null,
   "metadata": {},
   "outputs": [],
   "source": [
    "X_train_tensor = torch.from_numpy(X_train)\n",
    "Y_train_tensor = torch.from_numpy(Y_train)\n",
    "X_test_tensor  = torch.from_numpy(X_test)\n",
    "Y_test_tensor  = torch.from_numpy(Y_test)\n",
    "\n",
    "train_tensor_dataset = torch.utils.data.TensorDataset(X_train_tensor, Y_train_tensor)\n",
    "test_tensor_dataset  = torch.utils.data.TensorDataset(X_test_tensor, Y_test_tensor)\n",
    "\n",
    "data_loader_train = torch.utils.data.DataLoader(dataset=train_tensor_dataset, \n",
    "                                          batch_size=10, \n",
    "                                          shuffle=True,\n",
    "                                          num_workers=4)\n",
    "\n",
    "data_loader_test = torch.utils.data.DataLoader(dataset=test_tensor_dataset, \n",
    "                                          batch_size=100, \n",
    "                                          shuffle=False,\n",
    "                                          num_workers=4)"
   ]
  },
  {
   "cell_type": "code",
   "execution_count": null,
   "metadata": {},
   "outputs": [],
   "source": [
    "# Neural Network Model\n",
    "class Model(nn.Module):\n",
    "    def __init__(self, input_size, hidden_size, output_size):\n",
    "        super(Model, self).__init__()\n",
    "        self.fc1 = nn.Linear(input_size, hidden_size)\n",
    "        self.fc2 = nn.Linear(hidden_size, output_size)\n",
    "    \n",
    "    def forward(self, x):\n",
    "        x = F.dropout(x, p=0.1, training=True)\n",
    "        x = self.fc1(x)\n",
    "        x = F.leaky_relu(x)\n",
    "        x = F.dropout(x, p=0.1, training=True)\n",
    "        x = self.fc2(x)\n",
    "        return x"
   ]
  },
  {
   "cell_type": "code",
   "execution_count": null,
   "metadata": {},
   "outputs": [],
   "source": [
    "model = Model(input_size=1, hidden_size=10, output_size=1)\n",
    "\n",
    "optimizer = torch.optim.SGD(model.parameters(),\n",
    "                            lr=0.001,\n",
    "                            weight_decay=1.0778889384649698e-06,\n",
    "                            momentum=0.9)\n",
    "\n",
    "loss_criterion = torch.nn.MSELoss()"
   ]
  },
  {
   "cell_type": "code",
   "execution_count": null,
   "metadata": {},
   "outputs": [],
   "source": [
    "train_loss = []\n",
    "test_loss  = []\n",
    "\n",
    "# Train the Model\n",
    "for epoch in range(40):\n",
    "    #print(f'Epoch {epoch}/40')\n",
    "    \n",
    "    #train\n",
    "    batchloss_train = []\n",
    "    for X_train_batch, Y_train_batch in data_loader_train:  \n",
    "        # Convert torch tensor to Variable\n",
    "        X_train_tensor = Variable(X_train_batch).float()\n",
    "        Y_train_tensor = Variable(Y_train_batch).float()\n",
    "        # Forward + Backward + Optimize\n",
    "        optimizer.zero_grad()  # zero the gradient buffer\n",
    "        predicted_Y = model(X_train_tensor)\n",
    "        trainloss = loss_criterion(predicted_Y, Y_train_tensor)\n",
    "        trainloss.backward()\n",
    "        optimizer.step()\n",
    "        batchloss_train.append(trainloss.data[0])\n",
    "        \n",
    "    #scheduler.step()\n",
    "    train_loss.append(np.mean(batchloss_train))\n",
    "    \n",
    "print('Train RMSE: {}'.format(np.sqrt(train_loss[-1])))"
   ]
  },
  {
   "cell_type": "code",
   "execution_count": null,
   "metadata": {},
   "outputs": [],
   "source": [
    "#Test \n",
    "N_forward = 100\n",
    "Y_hat_matrix = np.zeros([N_forward, 100])\n",
    "for i in range(N_forward):\n",
    "    for X_test_batch, Y_test_batch in data_loader_test:\n",
    "        Y_hat = model(Variable(X_test_batch).float())\n",
    "    Y_hat_matrix[i,:] = Y_hat.data.numpy().T"
   ]
  }
 ],
 "metadata": {
  "kernelspec": {
   "display_name": "Python 3",
   "language": "python",
   "name": "python3"
  },
  "language_info": {
   "codemirror_mode": {
    "name": "ipython",
    "version": 3
   },
   "file_extension": ".py",
   "mimetype": "text/x-python",
   "name": "python",
   "nbconvert_exporter": "python",
   "pygments_lexer": "ipython3",
   "version": "3.6.4"
  }
 },
 "nbformat": 4,
 "nbformat_minor": 2
}
