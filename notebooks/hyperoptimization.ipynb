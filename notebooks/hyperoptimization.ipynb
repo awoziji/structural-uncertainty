{
 "cells": [
  {
   "cell_type": "code",
   "execution_count": 68,
   "metadata": {},
   "outputs": [],
   "source": [
    "from hyperopt import fmin, rand, hp, pyll, Trials\n",
    "import torch.nn.init as init\n",
    "import numpy as np\n",
    "import json\n",
    "import pickle"
   ]
  },
  {
   "cell_type": "code",
   "execution_count": 74,
   "metadata": {},
   "outputs": [],
   "source": [
    "file = open(\"../results/hyperparameter_search.txt\",\"w\")\n",
    "\n",
    "def f(space):\n",
    "    learning_rate = space['learning_rate']\n",
    "    parameters = space\n",
    "    parameters['loss'] = 12\n",
    "    print(str(parameters), file=file)\n",
    "    return np.random.rand()"
   ]
  },
  {
   "cell_type": "code",
   "execution_count": 75,
   "metadata": {},
   "outputs": [],
   "source": [
    "trials = Trials()\n",
    "\n",
    "space = {'learning_rate': hp.uniform('learningrate', 0.0001, 0.01),\n",
    "         'dropout': hp.uniform('dropout', low=0.1, high=0.5),\n",
    "         'width': hp.quniform('width', low=50,high=1000,q=1), \n",
    "         'weight_init': hp.choice('init', [init.xavier_normal_,\n",
    "                                           init.xavier_uniform_,\n",
    "                                           init.kaiming_normal_,\n",
    "                                           init.kaiming_uniform_])}\n",
    "\n",
    "\n",
    "best = fmin(\n",
    "    fn=f,\n",
    "    space=space,\n",
    "    algo=rand.suggest,\n",
    "    max_evals = 5)\n",
    "\n",
    "\n",
    "file.close()"
   ]
  },
  {
   "cell_type": "code",
   "execution_count": 76,
   "metadata": {},
   "outputs": [
    {
     "name": "stdout",
     "output_type": "stream",
     "text": [
      "{'dropout': 0.2039396803396316, 'init': 3, 'learningrate': 0.002335937487599189, 'width': 409.0}\n"
     ]
    }
   ],
   "source": [
    "print(best)"
   ]
  },
  {
   "cell_type": "code",
   "execution_count": 77,
   "metadata": {},
   "outputs": [],
   "source": [
    "pickle.dump(trials, open(\"../results/hypopt_trials.pkl\", \"wb\"))"
   ]
  },
  {
   "cell_type": "code",
   "execution_count": null,
   "metadata": {},
   "outputs": [],
   "source": []
  },
  {
   "cell_type": "code",
   "execution_count": null,
   "metadata": {},
   "outputs": [],
   "source": []
  }
 ],
 "metadata": {
  "kernelspec": {
   "display_name": "Python 3",
   "language": "python",
   "name": "python3"
  },
  "language_info": {
   "codemirror_mode": {
    "name": "ipython",
    "version": 3
   },
   "file_extension": ".py",
   "mimetype": "text/x-python",
   "name": "python",
   "nbconvert_exporter": "python",
   "pygments_lexer": "ipython3",
   "version": "3.6.4"
  }
 },
 "nbformat": 4,
 "nbformat_minor": 2
}
