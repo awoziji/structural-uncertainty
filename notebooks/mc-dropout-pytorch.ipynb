{
 "cells": [
  {
   "cell_type": "code",
   "execution_count": 1,
   "metadata": {},
   "outputs": [],
   "source": [
    "import numpy as np\n",
    "import torch\n",
    "import torch.nn as nn\n",
    "import torch.utils.data\n",
    "import torch.nn.functional as F\n",
    "from torch.autograd import Variable\n",
    "import matplotlib.pyplot as plt\n",
    "%matplotlib inline\n",
    "%config InlineBackend.figure_format = 'retina'"
   ]
  },
  {
   "cell_type": "code",
   "execution_count": 3,
   "metadata": {},
   "outputs": [],
   "source": [
    "data = np.loadtxt('../data/concrete.txt',dtype=np.float32)\n",
    "np.random.shuffle(data)\n",
    "\n",
    "cutoff = int(len(data)*0.8)\n",
    "X_train, Y_train  = data[:cutoff, :-1], data[:cutoff, -1]\n",
    "X_test, Y_test = data[cutoff:, :-1], data[cutoff:, -1]\n",
    "\n",
    "std_X_train = np.std(X_train, 0)\n",
    "mean_X_train = np.mean(X_train, 0)\n",
    "\n",
    "X_train_norm = (X_train - mean_X_train) / std_X_train\n",
    "X_test_norm  = (X_test - mean_X_train) / std_X_train\n",
    "\n",
    "mean_Y_train = np.mean(Y_train)\n",
    "std_Y_train = np.std(Y_train)\n",
    "\n",
    "Y_train_norm = (Y_train - mean_Y_train) / std_Y_train\n",
    "Y_train_norm = np.array(Y_train_norm, ndmin = 2).T\n",
    "\n",
    "Y_test_norm = (Y_test - mean_Y_train) / std_Y_train\n",
    "Y_test_norm = np.array(Y_test_norm, ndmin = 2).T"
   ]
  },
  {
   "cell_type": "code",
   "execution_count": 4,
   "metadata": {},
   "outputs": [],
   "source": [
    "model_params = {\"learning_rate\": 0.001,\n",
    "                \"dropout\": 0.01,\n",
    "                \"hidden_width\": 100,\n",
    "                \"batch_size\": 32,\n",
    "                \"n_epoch\": 40}"
   ]
  },
  {
   "cell_type": "code",
   "execution_count": 5,
   "metadata": {},
   "outputs": [],
   "source": [
    "X_train_tensor = torch.from_numpy(X_train_norm)\n",
    "Y_train_tensor = torch.from_numpy(Y_train)\n",
    "X_test_tensor  = torch.from_numpy(X_test_norm)\n",
    "Y_test_tensor  = torch.from_numpy(Y_test)\n",
    "\n",
    "train_tensor_dataset = torch.utils.data.TensorDataset(X_train_tensor, Y_train_tensor)\n",
    "test_tensor_dataset  = torch.utils.data.TensorDataset(X_test_tensor, Y_test_tensor)\n",
    "\n",
    "data_loader_train = torch.utils.data.DataLoader(dataset=train_tensor_dataset, \n",
    "                                          batch_size=128, \n",
    "                                          shuffle=True,\n",
    "                                          num_workers=4)\n",
    "\n",
    "data_loader_test = torch.utils.data.DataLoader(dataset=test_tensor_dataset, \n",
    "                                          batch_size=128, \n",
    "                                          shuffle=False,\n",
    "                                          num_workers=4)"
   ]
  },
  {
   "cell_type": "code",
   "execution_count": 9,
   "metadata": {},
   "outputs": [],
   "source": [
    "# Neural Network Model\n",
    "class Net(nn.Module):\n",
    "    def __init__(self, input_size, hidden_size, output_size):\n",
    "        super(Net, self).__init__()\n",
    "        self.fc1 = nn.Linear(input_size, hidden_size)\n",
    "        self.fc2 = nn.Linear(hidden_size, output_size)\n",
    "    \n",
    "    def forward(self, x):\n",
    "        x = F.dropout(x, p=0.01, training=True)\n",
    "        x = self.fc1(x)\n",
    "        x = F.leaky_relu(x)\n",
    "        x = F.dropout(x, p=0.01, training=True)\n",
    "        x = self.fc2(x)\n",
    "        return x\n",
    "    "
   ]
  },
  {
   "cell_type": "code",
   "execution_count": 74,
   "metadata": {},
   "outputs": [
    {
     "name": "stdout",
     "output_type": "stream",
     "text": [
      "Root mean square error: 6.528951432073007\n"
     ]
    }
   ],
   "source": [
    "model = Net(input_size=8, hidden_size=50, output_size=1)\n",
    "\n",
    "optimizer = torch.optim.SGD(model.parameters(),\n",
    "                             lr=0.01,\n",
    "                             weight_decay=1.0778889384649698e-06,momentum=0.9)\n",
    "loss_criterion = torch.nn.MSELoss()\n",
    "scheduler = torch.optim.lr_scheduler.StepLR(optimizer, step_size=10, gamma=0.1)\n",
    "\n",
    "train_loss =[]\n",
    "test_loss  = []\n",
    "MC_test_loss = []\n",
    "# Train the Model\n",
    "for epoch in range(40):\n",
    "    #print(f'Epoch {epoch}/40')\n",
    "    batchloss_train = []\n",
    "    for batch_index, (X_train, Y_train) in enumerate(data_loader_train):  \n",
    "        # Convert torch tensor to Variable\n",
    "        X_train_tensor = Variable(X_train).float()\n",
    "        Y_train_tensor = Variable(Y_train).float()\n",
    "        # Forward + Backward + Optimize\n",
    "        optimizer.zero_grad()  # zero the gradient buffer\n",
    "        predicted_Y = model(X_train_tensor)\n",
    "        trainloss = loss_criterion(predicted_Y, Y_train_tensor)\n",
    "        trainloss.backward()\n",
    "        optimizer.step()\n",
    "        \n",
    "        batchloss_train.append(trainloss.data[0])\n",
    "    scheduler.step()\n",
    "    train_loss.append(np.mean(batchloss_train))\n",
    "    #Test loss\n",
    "    batchloss_test = []\n",
    "    batchloss_test_MC = []\n",
    "    for batch_index_test, (X_test, Y_test) in enumerate(data_loader_test):\n",
    "        X_test_tensor = Variable(X_test).float()\n",
    "        Y_test_tensor = Variable(Y_test).float()\n",
    "        \n",
    "        predicted_Y_test = model(X_test_tensor)\n",
    "        testloss = loss_criterion(predicted_Y_test, Y_test_tensor)\n",
    "        batchloss_test.append(testloss.data[0])\n",
    "        \n",
    "        #MC_predictions = torch.zeros([X_test_tensor.shape[0],100])\n",
    "        #for i in range(100):\n",
    "        #    MC_predictions[:,i] += model(X_test_tensor).data[:,0]\n",
    "        #MC_predicted_Y = torch.mean(MC_predictions,dim=1)\n",
    "        #MC_testloss = np.mean(((MC_predicted_Y.numpy() - Y_test.numpy())**2))\n",
    "        #batchloss_test_MC.append(MC_testloss)\n",
    "        \n",
    "    test_loss.append(np.mean(batchloss_test))\n",
    "    #MC_test_loss.append(np.mean(batchloss_test_MC))\n",
    "print('Root mean square error: {}'.format(np.sqrt(test_loss[-1])))\n",
    "#print('MC Root mean square error: {}'.format(np.sqrt(MC_test_loss[-1])))"
   ]
  },
  {
   "cell_type": "code",
   "execution_count": 75,
   "metadata": {},
   "outputs": [
    {
     "data": {
      "text/plain": [
       "<matplotlib.legend.Legend at 0x79a4b0f42748>"
      ]
     },
     "execution_count": 75,
     "metadata": {},
     "output_type": "execute_result"
    },
    {
     "data": {
      "image/png": "[encoded data removed]",
      "text/plain": [
       "<matplotlib.figure.Figure at 0x79a4b0fb0908>"
      ]
     },
     "metadata": {
      "image/png": {
       "height": 250,
       "width": 377
      }
     },
     "output_type": "display_data"
    }
   ],
   "source": [
    "plt.plot(train_loss, label='Train loss')\n",
    "plt.plot(test_loss, label='Test loss')\n",
    "#plt.plot(MC_test_loss, label='MC test loss')\n",
    "plt.legend()"
   ]
  },
  {
   "cell_type": "code",
   "execution_count": null,
   "metadata": {},
   "outputs": [],
   "source": [
    "v = []\n",
    "for _ in range(100):\n",
    "    v.append( model(torch.from_numpy(X_test_norm[10,:])).data.numpy().item() )\n",
    "print(Y_test[10])\n",
    "print(np.mean(v))\n",
    "print(np.std(v))"
   ]
  },
  {
   "cell_type": "code",
   "execution_count": null,
   "metadata": {},
   "outputs": [],
   "source": [
    "print(np.mean(((MC_predicted_Y.numpy() - Y_test.numpy())**2)))\n",
    "print(np.mean(((predicted_Y_test.data.numpy() - Y_test.numpy())**2)))"
   ]
  },
  {
   "cell_type": "code",
   "execution_count": null,
   "metadata": {},
   "outputs": [],
   "source": []
  }
 ],
 "metadata": {
  "kernelspec": {
   "display_name": "Python 3",
   "language": "python",
   "name": "python3"
  },
  "language_info": {
   "codemirror_mode": {
    "name": "ipython",
    "version": 3
   },
   "file_extension": ".py",
   "mimetype": "text/x-python",
   "name": "python",
   "nbconvert_exporter": "python",
   "pygments_lexer": "ipython3",
   "version": "3.6.3"
  }
 },
 "nbformat": 4,
 "nbformat_minor": 2
}
