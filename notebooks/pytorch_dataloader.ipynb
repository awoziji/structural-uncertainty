{
 "cells": [
  {
   "cell_type": "code",
   "execution_count": 1,
   "metadata": {},
   "outputs": [],
   "source": [
    "import os\n",
    "import torch\n",
    "import torch.nn as nn\n",
    "import torch.optim as optim\n",
    "\n",
    "import torch.nn.functional as F\n",
    "from torch.utils.data import Dataset, DataLoader\n",
    "from torch.autograd import Variable\n",
    "\n",
    "import numpy as np\n",
    "import pandas as pd\n",
    "import matplotlib.pyplot as plt\n",
    "%matplotlib inline\n",
    "%config InlineBackend.figure_format = 'retina'"
   ]
  },
  {
   "cell_type": "code",
   "execution_count": 2,
   "metadata": {},
   "outputs": [],
   "source": [
    "class z24Dataset(Dataset):\n",
    "    def __init__(self, window_size=100, skipstep=50, lookahead=1, include_environmental_data=False):\n",
    "        self.window_size = window_size\n",
    "        self.skipstep = skipstep\n",
    "        self.lookahead = lookahead\n",
    "        self.include_environmental_data = include_environmental_data        \n",
    "        self.index_file = np.loadtxt('../data/z24/name_to_index.txt',dtype=str)\n",
    "        self.name_index_dict = dict(zip(range(len(self.index_file)),list(self.index_file)))\n",
    "        self.slices_per_file  = 65536//self.skipstep if (self.window_size+self.lookahead) < self.skipstep else \\\n",
    "                               (65536//self.skipstep) - (self.window_size+self.lookahead)\n",
    "        \n",
    "    def __len__(self):\n",
    "        return len(self.index_file) * self.slices_per_file\n",
    "\n",
    "    def __getitem__(self, index):\n",
    "        index_to_read = index // self.slices_per_file\n",
    "        file_to_read = self.name_index_dict[index_to_read]\n",
    "        index_in_dataframe = index - index_to_read*self.slices_per_file\n",
    "        \n",
    "        df_list = []\n",
    "        for end in ['03','05','06', '07', '10', '12', '14', '16']:\n",
    "            df = pd.read_csv('../data/z24/permanent/'+file_to_read+end+'.aaa', sep=' ', nrows=65536, skiprows=1)\n",
    "            df.columns = [end]    \n",
    "            df_list.append(df)\n",
    "        data = pd.concat(df_list, axis=1).as_matrix()\n",
    "        \n",
    "        return data[index_in_dataframe:index_in_dataframe+self.window_size,:]"
   ]
  },
  {
   "cell_type": "code",
   "execution_count": 36,
   "metadata": {},
   "outputs": [],
   "source": [
    "test = z24Dataset(window_size=100, skipstep=50)"
   ]
  },
  {
   "cell_type": "code",
   "execution_count": 25,
   "metadata": {},
   "outputs": [],
   "source": [
    "dataloader = DataLoader(test, batch_size=100,\n",
    "                        shuffle=False, num_workers=2)"
   ]
  },
  {
   "cell_type": "code",
   "execution_count": 26,
   "metadata": {},
   "outputs": [
    {
     "name": "stdout",
     "output_type": "stream",
     "text": [
      "CPU times: user 7 ms, sys: 15 ms, total: 22 ms\n",
      "Wall time: 15.5 s\n"
     ]
    },
    {
     "data": {
      "text/plain": [
       "\n",
       "( 0 ,.,.) = \n",
       "  1.0000e-02  1.0000e-02  1.0000e-02  ...   1.0000e-02  1.0000e-02  1.0000e-02\n",
       " -3.1667e-05  5.3390e-04  3.5500e-05  ...   1.9184e-05 -4.4166e-05  8.8667e-05\n",
       " -3.5333e-05  5.3411e-04  3.1833e-05  ...   1.7445e-05 -4.4799e-05  8.8000e-05\n",
       "                 ...                   ⋱                   ...                \n",
       " -3.4333e-05  5.3305e-04  2.5167e-05  ...   1.0330e-05 -4.9542e-05  8.2000e-05\n",
       " -4.1333e-05  5.3411e-04  3.0000e-05  ...   1.6444e-05 -4.8488e-05  8.2667e-05\n",
       " -4.0333e-05  5.3400e-04  3.4333e-05  ...   1.8710e-05 -4.6802e-05  9.0000e-05\n",
       "\n",
       "( 1 ,.,.) = \n",
       " -3.1667e-05  5.3390e-04  3.5500e-05  ...   1.9184e-05 -4.4166e-05  8.8667e-05\n",
       " -3.5333e-05  5.3411e-04  3.1833e-05  ...   1.7445e-05 -4.4799e-05  8.8000e-05\n",
       " -4.0333e-05  5.3348e-04  2.9833e-05  ...   1.5337e-05 -4.5853e-05  8.9667e-05\n",
       "                 ...                   ⋱                   ...                \n",
       " -4.1333e-05  5.3411e-04  3.0000e-05  ...   1.6444e-05 -4.8488e-05  8.2667e-05\n",
       " -4.0333e-05  5.3400e-04  3.4333e-05  ...   1.8710e-05 -4.6802e-05  9.0000e-05\n",
       " -2.9000e-05  5.3263e-04  3.6333e-05  ...   1.9712e-05 -4.5326e-05  9.7000e-05\n",
       "\n",
       "( 2 ,.,.) = \n",
       " -3.5333e-05  5.3411e-04  3.1833e-05  ...   1.7445e-05 -4.4799e-05  8.8000e-05\n",
       " -4.0333e-05  5.3348e-04  2.9833e-05  ...   1.5337e-05 -4.5853e-05  8.9667e-05\n",
       " -4.4000e-05  5.3305e-04  2.9167e-05  ...   1.5548e-05 -4.5642e-05  8.8000e-05\n",
       "                 ...                   ⋱                   ...                \n",
       " -4.0333e-05  5.3400e-04  3.4333e-05  ...   1.8710e-05 -4.6802e-05  9.0000e-05\n",
       " -2.9000e-05  5.3263e-04  3.6333e-05  ...   1.9712e-05 -4.5326e-05  9.7000e-05\n",
       " -2.1333e-05  5.3179e-04  3.7667e-05  ...   2.1135e-05 -4.6064e-05  9.8000e-05\n",
       "... \n",
       "\n",
       "(97 ,.,.) = \n",
       " -3.4333e-05  5.3305e-04  2.5167e-05  ...   1.0330e-05 -4.9542e-05  8.2000e-05\n",
       " -4.1333e-05  5.3411e-04  3.0000e-05  ...   1.6444e-05 -4.8488e-05  8.2667e-05\n",
       " -4.0333e-05  5.3400e-04  3.4333e-05  ...   1.8710e-05 -4.6802e-05  9.0000e-05\n",
       "                 ...                   ⋱                   ...                \n",
       " -4.2000e-05  5.3295e-04  2.9500e-05  ...   1.4441e-05 -4.9859e-05  8.7333e-05\n",
       " -2.9333e-05  5.3284e-04  3.6333e-05  ...   1.9817e-05 -4.8910e-05  8.5000e-05\n",
       " -2.4333e-05  5.3232e-04  4.0333e-05  ...   2.3454e-05 -4.5326e-05  8.6667e-05\n",
       "\n",
       "(98 ,.,.) = \n",
       " -4.1333e-05  5.3411e-04  3.0000e-05  ...   1.6444e-05 -4.8488e-05  8.2667e-05\n",
       " -4.0333e-05  5.3400e-04  3.4333e-05  ...   1.8710e-05 -4.6802e-05  9.0000e-05\n",
       " -2.9000e-05  5.3263e-04  3.6333e-05  ...   1.9712e-05 -4.5326e-05  9.7000e-05\n",
       "                 ...                   ⋱                   ...                \n",
       " -2.9333e-05  5.3284e-04  3.6333e-05  ...   1.9817e-05 -4.8910e-05  8.5000e-05\n",
       " -2.4333e-05  5.3232e-04  4.0333e-05  ...   2.3454e-05 -4.5326e-05  8.6667e-05\n",
       " -3.7333e-05  5.3221e-04  3.5500e-05  ...   2.1820e-05 -4.2902e-05  9.1667e-05\n",
       "\n",
       "(99 ,.,.) = \n",
       " -4.0333e-05  5.3400e-04  3.4333e-05  ...   1.8710e-05 -4.6802e-05  9.0000e-05\n",
       " -2.9000e-05  5.3263e-04  3.6333e-05  ...   1.9712e-05 -4.5326e-05  9.7000e-05\n",
       " -2.1333e-05  5.3179e-04  3.7667e-05  ...   2.1135e-05 -4.6064e-05  9.8000e-05\n",
       "                 ...                   ⋱                   ...                \n",
       " -2.4333e-05  5.3232e-04  4.0333e-05  ...   2.3454e-05 -4.5326e-05  8.6667e-05\n",
       " -3.7333e-05  5.3221e-04  3.5500e-05  ...   2.1820e-05 -4.2902e-05  9.1667e-05\n",
       " -4.9667e-05  5.3200e-04  2.7167e-05  ...   1.3018e-05 -4.5010e-05  9.4667e-05\n",
       "[torch.DoubleTensor of size 100x100x8]"
      ]
     },
     "execution_count": 26,
     "metadata": {},
     "output_type": "execute_result"
    }
   ],
   "source": [
    "%%time\n",
    "next(iter(dataloader))"
   ]
  },
  {
   "cell_type": "code",
   "execution_count": 22,
   "metadata": {},
   "outputs": [
    {
     "name": "stdout",
     "output_type": "stream",
     "text": [
      "0\n",
      "1\n",
      "2\n",
      "3\n",
      "4\n",
      "5\n",
      "6\n",
      "7\n",
      "8\n",
      "9\n",
      "10\n",
      "11\n",
      "12\n",
      "13\n",
      "14\n",
      "15\n",
      "16\n",
      "17\n",
      "18\n",
      "19\n",
      "20\n",
      "21\n",
      "22\n",
      "23\n",
      "24\n",
      "25\n",
      "26\n",
      "27\n"
     ]
    },
    {
     "ename": "KeyboardInterrupt",
     "evalue": "",
     "output_type": "error",
     "traceback": [
      "\u001b[0;31m---------------------------------------------------------------------------\u001b[0m",
      "\u001b[0;31mKeyboardInterrupt\u001b[0m                         Traceback (most recent call last)",
      "\u001b[0;32m<ipython-input-22-5ae1c1055e87>\u001b[0m in \u001b[0;36m<module>\u001b[0;34m()\u001b[0m\n\u001b[0;32m----> 1\u001b[0;31m \u001b[0;32mfor\u001b[0m \u001b[0mi_batch\u001b[0m\u001b[0;34m,\u001b[0m \u001b[0mbatch\u001b[0m \u001b[0;32min\u001b[0m \u001b[0menumerate\u001b[0m\u001b[0;34m(\u001b[0m\u001b[0mdataloader\u001b[0m\u001b[0;34m)\u001b[0m\u001b[0;34m:\u001b[0m\u001b[0;34m\u001b[0m\u001b[0m\n\u001b[0m\u001b[1;32m      2\u001b[0m     \u001b[0mprint\u001b[0m\u001b[0;34m(\u001b[0m\u001b[0mi_batch\u001b[0m\u001b[0;34m)\u001b[0m\u001b[0;34m\u001b[0m\u001b[0m\n\u001b[1;32m      3\u001b[0m     \u001b[0;32mcontinue\u001b[0m\u001b[0;34m\u001b[0m\u001b[0m\n",
      "\u001b[0;32m~/miniconda3/lib/python3.6/site-packages/torch/utils/data/dataloader.py\u001b[0m in \u001b[0;36m__next__\u001b[0;34m(self)\u001b[0m\n\u001b[1;32m    202\u001b[0m         \u001b[0;32mwhile\u001b[0m \u001b[0;32mTrue\u001b[0m\u001b[0;34m:\u001b[0m\u001b[0;34m\u001b[0m\u001b[0m\n\u001b[1;32m    203\u001b[0m             \u001b[0;32massert\u001b[0m \u001b[0;34m(\u001b[0m\u001b[0;32mnot\u001b[0m \u001b[0mself\u001b[0m\u001b[0;34m.\u001b[0m\u001b[0mshutdown\u001b[0m \u001b[0;32mand\u001b[0m \u001b[0mself\u001b[0m\u001b[0;34m.\u001b[0m\u001b[0mbatches_outstanding\u001b[0m \u001b[0;34m>\u001b[0m \u001b[0;36m0\u001b[0m\u001b[0;34m)\u001b[0m\u001b[0;34m\u001b[0m\u001b[0m\n\u001b[0;32m--> 204\u001b[0;31m             \u001b[0midx\u001b[0m\u001b[0;34m,\u001b[0m \u001b[0mbatch\u001b[0m \u001b[0;34m=\u001b[0m \u001b[0mself\u001b[0m\u001b[0;34m.\u001b[0m\u001b[0mdata_queue\u001b[0m\u001b[0;34m.\u001b[0m\u001b[0mget\u001b[0m\u001b[0;34m(\u001b[0m\u001b[0;34m)\u001b[0m\u001b[0;34m\u001b[0m\u001b[0m\n\u001b[0m\u001b[1;32m    205\u001b[0m             \u001b[0mself\u001b[0m\u001b[0;34m.\u001b[0m\u001b[0mbatches_outstanding\u001b[0m \u001b[0;34m-=\u001b[0m \u001b[0;36m1\u001b[0m\u001b[0;34m\u001b[0m\u001b[0m\n\u001b[1;32m    206\u001b[0m             \u001b[0;32mif\u001b[0m \u001b[0midx\u001b[0m \u001b[0;34m!=\u001b[0m \u001b[0mself\u001b[0m\u001b[0;34m.\u001b[0m\u001b[0mrcvd_idx\u001b[0m\u001b[0;34m:\u001b[0m\u001b[0;34m\u001b[0m\u001b[0m\n",
      "\u001b[0;32m~/miniconda3/lib/python3.6/multiprocessing/queues.py\u001b[0m in \u001b[0;36mget\u001b[0;34m(self)\u001b[0m\n\u001b[1;32m    333\u001b[0m     \u001b[0;32mdef\u001b[0m \u001b[0mget\u001b[0m\u001b[0;34m(\u001b[0m\u001b[0mself\u001b[0m\u001b[0;34m)\u001b[0m\u001b[0;34m:\u001b[0m\u001b[0;34m\u001b[0m\u001b[0m\n\u001b[1;32m    334\u001b[0m         \u001b[0;32mwith\u001b[0m \u001b[0mself\u001b[0m\u001b[0;34m.\u001b[0m\u001b[0m_rlock\u001b[0m\u001b[0;34m:\u001b[0m\u001b[0;34m\u001b[0m\u001b[0m\n\u001b[0;32m--> 335\u001b[0;31m             \u001b[0mres\u001b[0m \u001b[0;34m=\u001b[0m \u001b[0mself\u001b[0m\u001b[0;34m.\u001b[0m\u001b[0m_reader\u001b[0m\u001b[0;34m.\u001b[0m\u001b[0mrecv_bytes\u001b[0m\u001b[0;34m(\u001b[0m\u001b[0;34m)\u001b[0m\u001b[0;34m\u001b[0m\u001b[0m\n\u001b[0m\u001b[1;32m    336\u001b[0m         \u001b[0;31m# unserialize the data after having released the lock\u001b[0m\u001b[0;34m\u001b[0m\u001b[0;34m\u001b[0m\u001b[0m\n\u001b[1;32m    337\u001b[0m         \u001b[0;32mreturn\u001b[0m \u001b[0m_ForkingPickler\u001b[0m\u001b[0;34m.\u001b[0m\u001b[0mloads\u001b[0m\u001b[0;34m(\u001b[0m\u001b[0mres\u001b[0m\u001b[0;34m)\u001b[0m\u001b[0;34m\u001b[0m\u001b[0m\n",
      "\u001b[0;32m~/miniconda3/lib/python3.6/multiprocessing/connection.py\u001b[0m in \u001b[0;36mrecv_bytes\u001b[0;34m(self, maxlength)\u001b[0m\n\u001b[1;32m    214\u001b[0m         \u001b[0;32mif\u001b[0m \u001b[0mmaxlength\u001b[0m \u001b[0;32mis\u001b[0m \u001b[0;32mnot\u001b[0m \u001b[0;32mNone\u001b[0m \u001b[0;32mand\u001b[0m \u001b[0mmaxlength\u001b[0m \u001b[0;34m<\u001b[0m \u001b[0;36m0\u001b[0m\u001b[0;34m:\u001b[0m\u001b[0;34m\u001b[0m\u001b[0m\n\u001b[1;32m    215\u001b[0m             \u001b[0;32mraise\u001b[0m \u001b[0mValueError\u001b[0m\u001b[0;34m(\u001b[0m\u001b[0;34m\"negative maxlength\"\u001b[0m\u001b[0;34m)\u001b[0m\u001b[0;34m\u001b[0m\u001b[0m\n\u001b[0;32m--> 216\u001b[0;31m         \u001b[0mbuf\u001b[0m \u001b[0;34m=\u001b[0m \u001b[0mself\u001b[0m\u001b[0;34m.\u001b[0m\u001b[0m_recv_bytes\u001b[0m\u001b[0;34m(\u001b[0m\u001b[0mmaxlength\u001b[0m\u001b[0;34m)\u001b[0m\u001b[0;34m\u001b[0m\u001b[0m\n\u001b[0m\u001b[1;32m    217\u001b[0m         \u001b[0;32mif\u001b[0m \u001b[0mbuf\u001b[0m \u001b[0;32mis\u001b[0m \u001b[0;32mNone\u001b[0m\u001b[0;34m:\u001b[0m\u001b[0;34m\u001b[0m\u001b[0m\n\u001b[1;32m    218\u001b[0m             \u001b[0mself\u001b[0m\u001b[0;34m.\u001b[0m\u001b[0m_bad_message_length\u001b[0m\u001b[0;34m(\u001b[0m\u001b[0;34m)\u001b[0m\u001b[0;34m\u001b[0m\u001b[0m\n",
      "\u001b[0;32m~/miniconda3/lib/python3.6/multiprocessing/connection.py\u001b[0m in \u001b[0;36m_recv_bytes\u001b[0;34m(self, maxsize)\u001b[0m\n\u001b[1;32m    405\u001b[0m \u001b[0;34m\u001b[0m\u001b[0m\n\u001b[1;32m    406\u001b[0m     \u001b[0;32mdef\u001b[0m \u001b[0m_recv_bytes\u001b[0m\u001b[0;34m(\u001b[0m\u001b[0mself\u001b[0m\u001b[0;34m,\u001b[0m \u001b[0mmaxsize\u001b[0m\u001b[0;34m=\u001b[0m\u001b[0;32mNone\u001b[0m\u001b[0;34m)\u001b[0m\u001b[0;34m:\u001b[0m\u001b[0;34m\u001b[0m\u001b[0m\n\u001b[0;32m--> 407\u001b[0;31m         \u001b[0mbuf\u001b[0m \u001b[0;34m=\u001b[0m \u001b[0mself\u001b[0m\u001b[0;34m.\u001b[0m\u001b[0m_recv\u001b[0m\u001b[0;34m(\u001b[0m\u001b[0;36m4\u001b[0m\u001b[0;34m)\u001b[0m\u001b[0;34m\u001b[0m\u001b[0m\n\u001b[0m\u001b[1;32m    408\u001b[0m         \u001b[0msize\u001b[0m\u001b[0;34m,\u001b[0m \u001b[0;34m=\u001b[0m \u001b[0mstruct\u001b[0m\u001b[0;34m.\u001b[0m\u001b[0munpack\u001b[0m\u001b[0;34m(\u001b[0m\u001b[0;34m\"!i\"\u001b[0m\u001b[0;34m,\u001b[0m \u001b[0mbuf\u001b[0m\u001b[0;34m.\u001b[0m\u001b[0mgetvalue\u001b[0m\u001b[0;34m(\u001b[0m\u001b[0;34m)\u001b[0m\u001b[0;34m)\u001b[0m\u001b[0;34m\u001b[0m\u001b[0m\n\u001b[1;32m    409\u001b[0m         \u001b[0;32mif\u001b[0m \u001b[0mmaxsize\u001b[0m \u001b[0;32mis\u001b[0m \u001b[0;32mnot\u001b[0m \u001b[0;32mNone\u001b[0m \u001b[0;32mand\u001b[0m \u001b[0msize\u001b[0m \u001b[0;34m>\u001b[0m \u001b[0mmaxsize\u001b[0m\u001b[0;34m:\u001b[0m\u001b[0;34m\u001b[0m\u001b[0m\n",
      "\u001b[0;32m~/miniconda3/lib/python3.6/multiprocessing/connection.py\u001b[0m in \u001b[0;36m_recv\u001b[0;34m(self, size, read)\u001b[0m\n\u001b[1;32m    377\u001b[0m         \u001b[0mremaining\u001b[0m \u001b[0;34m=\u001b[0m \u001b[0msize\u001b[0m\u001b[0;34m\u001b[0m\u001b[0m\n\u001b[1;32m    378\u001b[0m         \u001b[0;32mwhile\u001b[0m \u001b[0mremaining\u001b[0m \u001b[0;34m>\u001b[0m \u001b[0;36m0\u001b[0m\u001b[0;34m:\u001b[0m\u001b[0;34m\u001b[0m\u001b[0m\n\u001b[0;32m--> 379\u001b[0;31m             \u001b[0mchunk\u001b[0m \u001b[0;34m=\u001b[0m \u001b[0mread\u001b[0m\u001b[0;34m(\u001b[0m\u001b[0mhandle\u001b[0m\u001b[0;34m,\u001b[0m \u001b[0mremaining\u001b[0m\u001b[0;34m)\u001b[0m\u001b[0;34m\u001b[0m\u001b[0m\n\u001b[0m\u001b[1;32m    380\u001b[0m             \u001b[0mn\u001b[0m \u001b[0;34m=\u001b[0m \u001b[0mlen\u001b[0m\u001b[0;34m(\u001b[0m\u001b[0mchunk\u001b[0m\u001b[0;34m)\u001b[0m\u001b[0;34m\u001b[0m\u001b[0m\n\u001b[1;32m    381\u001b[0m             \u001b[0;32mif\u001b[0m \u001b[0mn\u001b[0m \u001b[0;34m==\u001b[0m \u001b[0;36m0\u001b[0m\u001b[0;34m:\u001b[0m\u001b[0;34m\u001b[0m\u001b[0m\n",
      "\u001b[0;31mKeyboardInterrupt\u001b[0m: "
     ]
    },
    {
     "name": "stderr",
     "output_type": "stream",
     "text": [
      "Process Process-26:\n",
      "Process Process-25:\n",
      "Traceback (most recent call last):\n",
      "Traceback (most recent call last):\n",
      "  File \"/home/dsteinar/miniconda3/lib/python3.6/multiprocessing/process.py\", line 258, in _bootstrap\n",
      "    self.run()\n",
      "  File \"/home/dsteinar/miniconda3/lib/python3.6/multiprocessing/process.py\", line 258, in _bootstrap\n",
      "    self.run()\n",
      "  File \"/home/dsteinar/miniconda3/lib/python3.6/multiprocessing/process.py\", line 93, in run\n",
      "    self._target(*self._args, **self._kwargs)\n",
      "  File \"/home/dsteinar/miniconda3/lib/python3.6/multiprocessing/process.py\", line 93, in run\n",
      "    self._target(*self._args, **self._kwargs)\n",
      "  File \"/home/dsteinar/miniconda3/lib/python3.6/site-packages/torch/utils/data/dataloader.py\", line 42, in _worker_loop\n",
      "    samples = collate_fn([dataset[i] for i in batch_indices])\n",
      "  File \"/home/dsteinar/miniconda3/lib/python3.6/site-packages/torch/utils/data/dataloader.py\", line 42, in _worker_loop\n",
      "    samples = collate_fn([dataset[i] for i in batch_indices])\n",
      "  File \"/home/dsteinar/miniconda3/lib/python3.6/site-packages/torch/utils/data/dataloader.py\", line 42, in <listcomp>\n",
      "    samples = collate_fn([dataset[i] for i in batch_indices])\n",
      "  File \"/home/dsteinar/miniconda3/lib/python3.6/site-packages/torch/utils/data/dataloader.py\", line 42, in <listcomp>\n",
      "    samples = collate_fn([dataset[i] for i in batch_indices])\n",
      "  File \"<ipython-input-2-a2e53b728b3b>\", line 21, in __getitem__\n",
      "    df = pd.read_csv('../data/z24/permanent/'+file_to_read+end+'.aaa', sep=' ', nrows=65536, skiprows=1)\n",
      "  File \"<ipython-input-2-a2e53b728b3b>\", line 21, in __getitem__\n",
      "    df = pd.read_csv('../data/z24/permanent/'+file_to_read+end+'.aaa', sep=' ', nrows=65536, skiprows=1)\n",
      "  File \"/home/dsteinar/miniconda3/lib/python3.6/site-packages/pandas/io/parsers.py\", line 705, in parser_f\n",
      "    return _read(filepath_or_buffer, kwds)\n",
      "  File \"/home/dsteinar/miniconda3/lib/python3.6/site-packages/pandas/io/parsers.py\", line 705, in parser_f\n",
      "    return _read(filepath_or_buffer, kwds)\n",
      "  File \"/home/dsteinar/miniconda3/lib/python3.6/site-packages/pandas/io/parsers.py\", line 445, in _read\n",
      "    parser = TextFileReader(filepath_or_buffer, **kwds)\n",
      "  File \"/home/dsteinar/miniconda3/lib/python3.6/site-packages/pandas/io/parsers.py\", line 451, in _read\n",
      "    data = parser.read(nrows)\n",
      "  File \"/home/dsteinar/miniconda3/lib/python3.6/site-packages/pandas/io/parsers.py\", line 814, in __init__\n",
      "    self._make_engine(self.engine)\n",
      "  File \"/home/dsteinar/miniconda3/lib/python3.6/site-packages/pandas/io/parsers.py\", line 1065, in read\n",
      "    ret = self._engine.read(nrows)\n",
      "  File \"/home/dsteinar/miniconda3/lib/python3.6/site-packages/pandas/io/parsers.py\", line 1045, in _make_engine\n",
      "    self._engine = CParserWrapper(self.f, **self.options)\n",
      "  File \"/home/dsteinar/miniconda3/lib/python3.6/site-packages/pandas/io/parsers.py\", line 1684, in __init__\n",
      "    self._reader = parsers.TextReader(src, **kwds)\n",
      "  File \"/home/dsteinar/miniconda3/lib/python3.6/site-packages/pandas/io/parsers.py\", line 1828, in read\n",
      "    data = self._reader.read(nrows)\n",
      "KeyboardInterrupt\n",
      "  File \"pandas/_libs/parsers.pyx\", line 894, in pandas._libs.parsers.TextReader.read\n",
      "  File \"pandas/_libs/parsers.pyx\", line 928, in pandas._libs.parsers.TextReader._read_low_memory\n",
      "  File \"pandas/_libs/parsers.pyx\", line 993, in pandas._libs.parsers.TextReader._read_rows\n",
      "  File \"pandas/_libs/parsers.pyx\", line 1122, in pandas._libs.parsers.TextReader._convert_column_data\n",
      "  File \"pandas/_libs/parsers.pyx\", line 1167, in pandas._libs.parsers.TextReader._convert_tokens\n",
      "  File \"pandas/_libs/parsers.pyx\", line 1213, in pandas._libs.parsers.TextReader._convert_with_dtype\n",
      "  File \"/home/dsteinar/miniconda3/lib/python3.6/site-packages/pandas/core/dtypes/common.py\", line 777, in is_integer_dtype\n",
      "    def is_integer_dtype(arr_or_dtype):\n",
      "KeyboardInterrupt\n"
     ]
    }
   ],
   "source": [
    "for i_batch, batch in enumerate(dataloader):\n",
    "    print(i_batch)\n",
    "    continue"
   ]
  },
  {
   "cell_type": "code",
   "execution_count": 70,
   "metadata": {},
   "outputs": [
    {
     "name": "stdout",
     "output_type": "stream",
     "text": [
      "5.84 ms ± 341 µs per loop (mean ± std. dev. of 7 runs, 100 loops each)\n"
     ]
    }
   ],
   "source": [
    "%%timeit\n",
    "skip=65000\n",
    "tst=pd.read_csv('../data/z24/permanent/'+'12A18'+'03'+'.aaa', sep=' ', nrows=65536-skip, skiprows=skip)"
   ]
  },
  {
   "cell_type": "code",
   "execution_count": 71,
   "metadata": {},
   "outputs": [
    {
     "name": "stdout",
     "output_type": "stream",
     "text": [
      "18.9 ms ± 869 µs per loop (mean ± std. dev. of 7 runs, 100 loops each)\n"
     ]
    }
   ],
   "source": [
    "%%timeit\n",
    "tst1=pd.read_csv('../data/z24/permanent/'+'12A18'+'03'+'.aaa', sep=' ', nrows=65536, skiprows=1)"
   ]
  },
  {
   "cell_type": "code",
   "execution_count": 66,
   "metadata": {},
   "outputs": [
    {
     "data": {
      "text/plain": [
       "(536, 1)"
      ]
     },
     "execution_count": 66,
     "metadata": {},
     "output_type": "execute_result"
    }
   ],
   "source": [
    "tst.shape"
   ]
  },
  {
   "cell_type": "code",
   "execution_count": 67,
   "metadata": {},
   "outputs": [
    {
     "data": {
      "text/plain": [
       "(6553, 1)"
      ]
     },
     "execution_count": 67,
     "metadata": {},
     "output_type": "execute_result"
    }
   ],
   "source": [
    "tst1.shape"
   ]
  },
  {
   "cell_type": "code",
   "execution_count": null,
   "metadata": {},
   "outputs": [],
   "source": []
  }
 ],
 "metadata": {
  "kernelspec": {
   "display_name": "Python 3",
   "language": "python",
   "name": "python3"
  },
  "language_info": {
   "codemirror_mode": {
    "name": "ipython",
    "version": 3
   },
   "file_extension": ".py",
   "mimetype": "text/x-python",
   "name": "python",
   "nbconvert_exporter": "python",
   "pygments_lexer": "ipython3",
   "version": "3.6.3"
  }
 },
 "nbformat": 4,
 "nbformat_minor": 2
}
