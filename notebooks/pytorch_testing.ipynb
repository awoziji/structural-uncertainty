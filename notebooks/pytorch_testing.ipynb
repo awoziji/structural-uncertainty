{
 "cells": [
  {
   "cell_type": "code",
   "execution_count": 45,
   "metadata": {},
   "outputs": [],
   "source": [
    "import torch\n",
    "import torch.nn as nn\n",
    "import torch.optim as optim\n",
    "\n",
    "import torchvision.transforms as transforms\n",
    "import torchvision.datasets as dsets\n",
    "\n",
    "from torch.autograd import Variable\n",
    "import torch.nn.functional as F\n",
    "from torchvision import datasets, transforms\n",
    "\n",
    "import numpy as np\n",
    "import matplotlib.pyplot as plt\n",
    "%matplotlib inline\n",
    "%config InlineBackend.figure_format = 'retina'"
   ]
  },
  {
   "cell_type": "code",
   "execution_count": 46,
   "metadata": {},
   "outputs": [],
   "source": [
    "torch.manual_seed(2323)\n",
    "use_gpu = False\n",
    "\n",
    "# Hyper Parameters \n",
    "input_size = 784\n",
    "hidden_size = 784\n",
    "num_classes = 10\n",
    "num_epochs = 200\n",
    "batch_size = 100\n",
    "learning_rate = 0.05"
   ]
  },
  {
   "cell_type": "code",
   "execution_count": 47,
   "metadata": {},
   "outputs": [],
   "source": [
    "transform = transforms.Compose([transforms.ToTensor(), transforms.Normalize((0.1307,), (0.3081,))])\n",
    "\n",
    "trainset = datasets.FashionMNIST(root='./data', train=True,\n",
    "                                        download=True, transform=transform)\n",
    "\n",
    "testset = datasets.FashionMNIST(root='./data', train=False,\n",
    "                                       download=True, transform=transform)\n",
    "\n",
    "train_loader = torch.utils.data.DataLoader(trainset, batch_size=batch_size,\n",
    "                                          shuffle=True, num_workers=4)\n",
    "test_loader = torch.utils.data.DataLoader(testset, batch_size=batch_size,\n",
    "                                         shuffle=False, num_workers=4)"
   ]
  },
  {
   "cell_type": "code",
   "execution_count": 48,
   "metadata": {},
   "outputs": [
    {
     "data": {
      "image/png": "[encoded data removed]",
      "text/plain": [
       "<matplotlib.figure.Figure at 0x7ac453ba9048>"
      ]
     },
     "metadata": {
      "image/png": {
       "height": 263,
       "width": 253
      }
     },
     "output_type": "display_data"
    }
   ],
   "source": [
    "plt.imshow(train_loader.dataset.train_data[0].numpy(), cmap='gray')\n",
    "plt.title('%i' % train_loader.dataset.train_labels[0])\n",
    "plt.show()"
   ]
  },
  {
   "cell_type": "code",
   "execution_count": 57,
   "metadata": {},
   "outputs": [],
   "source": [
    "class Net(nn.Module):\n",
    "    def __init__(self, input_size, hidden_size, num_classes, dropout_p=0.5):\n",
    "        super(Net, self).__init__()\n",
    "        self.dropout_p = dropout_p\n",
    "        self.fc1 = nn.Linear(input_size, hidden_size) \n",
    "        #self.fc2 = nn.Linear(hidden_size,hidden_size)\n",
    "        self.fc3 = nn.Linear(hidden_size, num_classes)\n",
    "        \n",
    "    def forward(self, x):\n",
    "        x = F.dropout(x, p=self.dropout_p ,training=self.training)\n",
    "        x = self.fc1(x)\n",
    "        #x = F.relu(x)\n",
    "        #x = self.fc2(x)\n",
    "        x = F.relu(x)\n",
    "        x = F.dropout(x, p=self.dropout_p, training=self.training)\n",
    "        x = self.fc3(x)\n",
    "        y = F.log_softmax(x, dim=0)\n",
    "        return y"
   ]
  },
  {
   "cell_type": "code",
   "execution_count": 58,
   "metadata": {},
   "outputs": [],
   "source": [
    "model = Net(input_size, hidden_size, num_classes, dropout_p=0.2)\n",
    "\n",
    "if use_gpu:\n",
    "    model.cuda()\n",
    "    \n",
    "optimizer = torch.optim.SGD(model.parameters(), \n",
    "                            lr=learning_rate, \n",
    "                            weight_decay = 0.0,\n",
    "                            momentum=0.9)\n",
    "\n",
    "scheduler = torch.optim.lr_scheduler.MultiStepLR(optimizer, milestones=[100, 150, 175])"
   ]
  },
  {
   "cell_type": "code",
   "execution_count": null,
   "metadata": {
    "scrolled": true
   },
   "outputs": [
    {
     "name": "stdout",
     "output_type": "stream",
     "text": [
      "Epoch 1/200, \n",
      "    trainloss: 2.8018397414684295, \n",
      "    testloss : 2.767973253726959\n",
      "Epoch 2/200, \n",
      "    trainloss: 2.7657153069972993, \n",
      "    testloss : 2.7570307946205137\n",
      "Epoch 3/200, \n",
      "    trainloss: 2.74956684867541, \n",
      "    testloss : 2.7385247206687926\n",
      "Epoch 4/200, \n",
      "    trainloss: 2.735215811729431, \n",
      "    testloss : 2.7315676021575928\n",
      "Epoch 5/200, \n",
      "    trainloss: 2.7227662062644957, \n",
      "    testloss : 2.7254761171340944\n",
      "Epoch 6/200, \n",
      "    trainloss: 2.713565780321757, \n",
      "    testloss : 2.71660085439682\n",
      "Epoch 7/200, \n",
      "    trainloss: 2.708109798828761, \n",
      "    testloss : 2.7152058029174806\n",
      "Epoch 8/200, \n",
      "    trainloss: 2.7016423416137694, \n",
      "    testloss : 2.7091074490547182\n",
      "Epoch 9/200, \n",
      "    trainloss: 2.6918128629525504, \n",
      "    testloss : 2.706580481529236\n",
      "Epoch 10/200, \n",
      "    trainloss: 2.688658621708552, \n",
      "    testloss : 2.7055965185165407\n",
      "Epoch 11/200, \n",
      "    trainloss: 2.6819847480456036, \n",
      "    testloss : 2.7025902462005615\n",
      "Epoch 12/200, \n",
      "    trainloss: 2.6776302671432495, \n",
      "    testloss : 2.6985437846183777\n",
      "Epoch 13/200, \n",
      "    trainloss: 2.673176521062851, \n",
      "    testloss : 2.697578670978546\n",
      "Epoch 14/200, \n",
      "    trainloss: 2.669967403014501, \n",
      "    testloss : 2.6958859252929686\n",
      "Epoch 15/200, \n",
      "    trainloss: 2.664566643635432, \n",
      "    testloss : 2.6934355545043944\n",
      "Epoch 16/200, \n",
      "    trainloss: 2.6604953583081565, \n",
      "    testloss : 2.6908381152153016\n",
      "Epoch 17/200, \n",
      "    trainloss: 2.6593396226565043, \n",
      "    testloss : 2.6938490867614746\n",
      "Epoch 18/200, \n",
      "    trainloss: 2.6577733747164407, \n",
      "    testloss : 2.688812327384949\n",
      "Epoch 19/200, \n",
      "    trainloss: 2.653968832095464, \n",
      "    testloss : 2.68764417886734\n",
      "Epoch 20/200, \n",
      "    trainloss: 2.652659004131953, \n",
      "    testloss : 2.685482499599457\n",
      "Epoch 21/200, \n",
      "    trainloss: 2.6467427468299864, \n",
      "    testloss : 2.6859325098991396\n",
      "Epoch 22/200, \n",
      "    trainloss: 2.64680965423584, \n",
      "    testloss : 2.683278064727783\n",
      "Epoch 23/200, \n",
      "    trainloss: 2.6422847386201225, \n",
      "    testloss : 2.6831687617301943\n",
      "Epoch 24/200, \n",
      "    trainloss: 2.6425869290033974, \n",
      "    testloss : 2.692398250102997\n",
      "Epoch 25/200, \n",
      "    trainloss: 2.6412865364551545, \n",
      "    testloss : 2.67929625749588\n",
      "Epoch 26/200, \n",
      "    trainloss: 2.636829441388448, \n",
      "    testloss : 2.6836401343345644\n",
      "Epoch 27/200, \n",
      "    trainloss: 2.6342920525868734, \n",
      "    testloss : 2.6799329829216005\n",
      "Epoch 28/200, \n",
      "    trainloss: 2.635759893655777, \n",
      "    testloss : 2.6840316367149355\n",
      "Epoch 29/200, \n",
      "    trainloss: 2.637654375632604, \n",
      "    testloss : 2.6797916722297668\n",
      "Epoch 30/200, \n",
      "    trainloss: 2.629394387404124, \n",
      "    testloss : 2.6825655674934388\n",
      "Epoch 31/200, \n",
      "    trainloss: 2.6290198568503063, \n",
      "    testloss : 2.6744133925437925\n"
     ]
    }
   ],
   "source": [
    "total_trainloss = []\n",
    "total_testloss  = []\n",
    "# Train the Model\n",
    "for epoch in range(num_epochs):\n",
    "    #Train step\n",
    "    model.train()\n",
    "    epoch_trainloss = []\n",
    "    for train_images, train_labels in train_loader:  \n",
    "        if use_gpu:\n",
    "            train_images, train_labels = train_images.cuda(), train_labels.cuda()\n",
    "        # Convert torch tensor to Variable\n",
    "        train_images = Variable(train_images.view(-1, 28*28))\n",
    "        train_labels = Variable(train_labels)\n",
    "        \n",
    "        # Forward + Backward + Optimize\n",
    "        optimizer.zero_grad()  # zero the gradient buffer\n",
    "        train_outputs = model(train_images)\n",
    "        train_loss = F.nll_loss(train_outputs, train_labels)\n",
    "        train_loss.backward()\n",
    "        optimizer.step()\n",
    "        \n",
    "        epoch_trainloss.append(train_loss.data[0])\n",
    "    total_trainloss.append(np.mean(epoch_trainloss))\n",
    "    \n",
    "    scheduler.step()\n",
    "    \n",
    "    #Test step\n",
    "    model.eval()\n",
    "    epoch_testloss = []\n",
    "    for test_images, test_labels in test_loader:\n",
    "        if use_gpu:\n",
    "            train_images, train_labels = train_images.cuda(), train_labels.cuda()\n",
    "        test_images = Variable(test_images.view(-1, 28*28), volatile=True)\n",
    "        test_labels = Variable(test_labels)\n",
    "        \n",
    "        #Forward\n",
    "        test_outputs = model(test_images)\n",
    "        test_loss = F.nll_loss(test_outputs, test_labels)\n",
    "        epoch_testloss.append(test_loss.data[0])\n",
    "    total_testloss.append(np.mean(epoch_testloss))\n",
    "    \n",
    "    print (f'''Epoch {epoch+1}/{num_epochs}, \n",
    "    trainloss: {np.mean(epoch_trainloss)}, \n",
    "    testloss : {np.mean(epoch_testloss)}''')"
   ]
  },
  {
   "cell_type": "code",
   "execution_count": 44,
   "metadata": {},
   "outputs": [
    {
     "data": {
      "image/png": "[encoded data removed]",
      "text/plain": [
       "<matplotlib.figure.Figure at 0x7ac45bb4b0b8>"
      ]
     },
     "metadata": {
      "image/png": {
       "height": 263,
       "width": 373
      }
     },
     "output_type": "display_data"
    }
   ],
   "source": [
    "plt.plot(total_trainloss, label='Train loss',linewidth=0.5)\n",
    "plt.plot(total_testloss, label='Test loss', linewidth=0.5)\n",
    "plt.xlabel('Epoch')\n",
    "plt.ylabel('Loss')\n",
    "plt.title('90.08% accuracy')\n",
    "plt.legend()\n",
    "plt.savefig('one_hidden_200epoch.pdf', format='pdf')"
   ]
  },
  {
   "cell_type": "code",
   "execution_count": 60,
   "metadata": {},
   "outputs": [
    {
     "name": "stdout",
     "output_type": "stream",
     "text": [
      "Testset accuracy: 0.8292\n"
     ]
    }
   ],
   "source": [
    "correct = 0\n",
    "total = 0\n",
    "for images, labels in test_loader:\n",
    "    images = Variable(images.view(-1, 28*28))\n",
    "    outputs = model(images)\n",
    "    _, predicted = torch.max(outputs.data, 1)\n",
    "    total += labels.size(0)\n",
    "    correct += (predicted == labels).sum()\n",
    "print(f'Testset accuracy: {correct/total}')"
   ]
  },
  {
   "cell_type": "code",
   "execution_count": 42,
   "metadata": {},
   "outputs": [],
   "source": [
    "torch.save(model.state_dict(),f='onehiddenlayer_200epoch.pt')"
   ]
  },
  {
   "cell_type": "code",
   "execution_count": null,
   "metadata": {},
   "outputs": [],
   "source": []
  }
 ],
 "metadata": {
  "kernelspec": {
   "display_name": "Python 3",
   "language": "python",
   "name": "python3"
  },
  "language_info": {
   "codemirror_mode": {
    "name": "ipython",
    "version": 3
   },
   "file_extension": ".py",
   "mimetype": "text/x-python",
   "name": "python",
   "nbconvert_exporter": "python",
   "pygments_lexer": "ipython3",
   "version": "3.6.3"
  }
 },
 "nbformat": 4,
 "nbformat_minor": 2
}
