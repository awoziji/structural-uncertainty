{
 "cells": [
  {
   "cell_type": "code",
   "execution_count": 1,
   "metadata": {},
   "outputs": [],
   "source": [
    "import numpy as np\n",
    "import os\n",
    "import torch\n",
    "import torch.nn as nn\n",
    "import torch.optim as optim\n",
    "import torch.nn.init as init\n",
    "import torch.nn.functional as F\n",
    "from torch.utils.data import Dataset, DataLoader\n",
    "\n",
    "import matplotlib.pyplot as plt\n",
    "%matplotlib inline\n",
    "%config InlineBackend.figure_format = 'retina'"
   ]
  },
  {
   "cell_type": "code",
   "execution_count": 2,
   "metadata": {},
   "outputs": [],
   "source": [
    "class z24Dataset(Dataset):\n",
    "    def __init__(self, mode='training', window_size=100, normalize=True):\n",
    "        self.window_size = window_size\n",
    "        self.slices_per_file = 65536 // self.window_size\n",
    "        self.normalize = normalize\n",
    "        self.mode = mode\n",
    "        \n",
    "        if mode == 'training':\n",
    "            self.index_file = np.loadtxt('../tools/training_set_index.txt',dtype=str)\n",
    "        elif mode == 'testing' :\n",
    "            self.index_file = np.loadtxt('../tools/test_set_index.txt',dtype=str)\n",
    "        elif mode == 'validating':\n",
    "            self.index_file = np.loadtxt('../tools/validation_set_index.txt',dtype=str)\n",
    "        elif mode == 'damage':\n",
    "            self.index_file = np.loadtxt('../tools/damage_set_index.txt',dtype=str)\n",
    "        \n",
    "        self.name_index_dict = dict(zip(range(len(self.index_file)),list(self.index_file)))\n",
    "        \n",
    "        self.env_mean = np.load('../tools/env_mean.npy')\n",
    "        self.env_std = np.load('../tools/env_std.npy')\n",
    "        self.vibration_mean = np.load('../tools/vibration_mean.npy')\n",
    "        self.vibration_std = np.load('../tools/vibration_std.npy')\n",
    "\n",
    "    def __len__(self):\n",
    "        return len(self.index_file) * self.slices_per_file\n",
    "\n",
    "    def __getitem__(self, index):\n",
    "        index_to_read = index // self.slices_per_file\n",
    "        file_to_read = self.name_index_dict[index_to_read]\n",
    "        index_in_dataframe = (index - index_to_read*self.slices_per_file) * self.window_size\n",
    "        \n",
    "        if self.mode == 'damage':\n",
    "            file_path_vib = '../data/z24_damage/7_clean/'+file_to_read+'_vibrations.npy'\n",
    "            file_path_env = '../data/z24_damage/7_clean/'+file_to_read+'_env.npy'\n",
    "        else:\n",
    "            file_path_vib = '../data/z24_clean/'+file_to_read+'_vibrations.npy'\n",
    "            file_path_env = '../data/z24_clean/'+file_to_read+'_env.npy'\n",
    "        \n",
    "        memmap_vib = np.memmap(file_path_vib, dtype=np.float64, mode='r', shape=(65536, 7))\n",
    "        memmap_env = np.memmap(file_path_env, dtype=np.float64, mode='r', shape=(53,))\n",
    "\n",
    "        X_environmental = np.array(memmap_env[:])\n",
    "        X_vibration_window = np.array(memmap_vib[index_in_dataframe:index_in_dataframe+self.window_size,:])\n",
    "\n",
    "        if self.normalize:\n",
    "            X_vibration_window = (X_vibration_window - self.vibration_mean) / self.vibration_std\n",
    "            X_environmental = (X_environmental - self.env_mean) / self.env_std\n",
    "        \n",
    "        X_vib_and_env = np.append(X_vibration_window.flatten(),X_environmental)\n",
    "       \n",
    "        return X_vib_and_env, X_vibration_window.flatten()\n",
    "    \n",
    "class Model(nn.Module):\n",
    "    def __init__(self, input_size, hidden_size, z_size, output_size, dropout_p):\n",
    "        super(Model, self).__init__()\n",
    "        self.dropout_p = dropout_p\n",
    "\n",
    "        self.h1 = nn.Linear(input_size, hidden_size)\n",
    "        self.z  = nn.Linear(hidden_size, z_size)\n",
    "        self.h2 = nn.Linear(z_size, hidden_size)\n",
    "        self.h3 = nn.Linear(hidden_size, output_size)\n",
    "\n",
    "    def forward(self, x):\n",
    "        x = F.dropout(x, p=self.dropout_p, training=True)\n",
    "        x = F.leaky_relu(self.h1(x))\n",
    "        x = F.dropout(x, p=self.dropout_p, training=True)\n",
    "        x = F.leaky_relu(self.z(x))\n",
    "        x = F.dropout(x, p=self.dropout_p, training=True)\n",
    "        x = F.leaky_relu(self.h2(x))\n",
    "        x = F.dropout(x, p=self.dropout_p, training=True)\n",
    "        x = self.h3(x)\n",
    "        return x"
   ]
  },
  {
   "cell_type": "code",
   "execution_count": 3,
   "metadata": {},
   "outputs": [],
   "source": [
    "device = torch.device('cuda' if torch.cuda.is_available() else 'cpu')\n",
    "batch_size = 100\n",
    "\n",
    "dataset = z24Dataset(mode='testing', window_size=100, normalize=True)\n",
    "dataloader = DataLoader(dataset, batch_size=batch_size, shuffle=False, num_workers=4)"
   ]
  },
  {
   "cell_type": "code",
   "execution_count": 4,
   "metadata": {},
   "outputs": [
    {
     "ename": "FileNotFoundError",
     "evalue": "[Errno 2] No such file or directory: '../results/trained_autoencoder_correct.pt'",
     "output_type": "error",
     "traceback": [
      "\u001b[0;31m---------------------------------------------------------------------------\u001b[0m",
      "\u001b[0;31mFileNotFoundError\u001b[0m                         Traceback (most recent call last)",
      "\u001b[0;32m<ipython-input-4-49b5fb759409>\u001b[0m in \u001b[0;36m<module>\u001b[0;34m()\u001b[0m\n\u001b[0;32m----> 1\u001b[0;31m \u001b[0mmodel\u001b[0m \u001b[0;34m=\u001b[0m \u001b[0mtorch\u001b[0m\u001b[0;34m.\u001b[0m\u001b[0mload\u001b[0m\u001b[0;34m(\u001b[0m\u001b[0mf\u001b[0m\u001b[0;34m=\u001b[0m\u001b[0;34m'../results/trained_autoencoder_correct.pt'\u001b[0m\u001b[0;34m,\u001b[0m \u001b[0mmap_location\u001b[0m\u001b[0;34m=\u001b[0m\u001b[0;34m'cpu'\u001b[0m\u001b[0;34m)\u001b[0m\u001b[0;34m\u001b[0m\u001b[0m\n\u001b[0m\u001b[1;32m      2\u001b[0m \u001b[0mloss_criterion\u001b[0m \u001b[0;34m=\u001b[0m \u001b[0mtorch\u001b[0m\u001b[0;34m.\u001b[0m\u001b[0mnn\u001b[0m\u001b[0;34m.\u001b[0m\u001b[0mMSELoss\u001b[0m\u001b[0;34m(\u001b[0m\u001b[0mreduce\u001b[0m\u001b[0;34m=\u001b[0m\u001b[0;32mFalse\u001b[0m\u001b[0;34m)\u001b[0m\u001b[0;34m\u001b[0m\u001b[0m\n",
      "\u001b[0;32m~/miniconda3/lib/python3.6/site-packages/torch/serialization.py\u001b[0m in \u001b[0;36mload\u001b[0;34m(f, map_location, pickle_module)\u001b[0m\n\u001b[1;32m    299\u001b[0m             \u001b[0;34m(\u001b[0m\u001b[0msys\u001b[0m\u001b[0;34m.\u001b[0m\u001b[0mversion_info\u001b[0m\u001b[0;34m[\u001b[0m\u001b[0;36m0\u001b[0m\u001b[0;34m]\u001b[0m \u001b[0;34m==\u001b[0m \u001b[0;36m3\u001b[0m \u001b[0;32mand\u001b[0m \u001b[0misinstance\u001b[0m\u001b[0;34m(\u001b[0m\u001b[0mf\u001b[0m\u001b[0;34m,\u001b[0m \u001b[0mpathlib\u001b[0m\u001b[0;34m.\u001b[0m\u001b[0mPath\u001b[0m\u001b[0;34m)\u001b[0m\u001b[0;34m)\u001b[0m\u001b[0;34m:\u001b[0m\u001b[0;34m\u001b[0m\u001b[0m\n\u001b[1;32m    300\u001b[0m         \u001b[0mnew_fd\u001b[0m \u001b[0;34m=\u001b[0m \u001b[0;32mTrue\u001b[0m\u001b[0;34m\u001b[0m\u001b[0m\n\u001b[0;32m--> 301\u001b[0;31m         \u001b[0mf\u001b[0m \u001b[0;34m=\u001b[0m \u001b[0mopen\u001b[0m\u001b[0;34m(\u001b[0m\u001b[0mf\u001b[0m\u001b[0;34m,\u001b[0m \u001b[0;34m'rb'\u001b[0m\u001b[0;34m)\u001b[0m\u001b[0;34m\u001b[0m\u001b[0m\n\u001b[0m\u001b[1;32m    302\u001b[0m     \u001b[0;32mtry\u001b[0m\u001b[0;34m:\u001b[0m\u001b[0;34m\u001b[0m\u001b[0m\n\u001b[1;32m    303\u001b[0m         \u001b[0;32mreturn\u001b[0m \u001b[0m_load\u001b[0m\u001b[0;34m(\u001b[0m\u001b[0mf\u001b[0m\u001b[0;34m,\u001b[0m \u001b[0mmap_location\u001b[0m\u001b[0;34m,\u001b[0m \u001b[0mpickle_module\u001b[0m\u001b[0;34m)\u001b[0m\u001b[0;34m\u001b[0m\u001b[0m\n",
      "\u001b[0;31mFileNotFoundError\u001b[0m: [Errno 2] No such file or directory: '../results/trained_autoencoder_correct.pt'"
     ]
    }
   ],
   "source": [
    "model = torch.load(f='../results/trained_autoencoder_correct.pt', map_location='cpu')\n",
    "loss_criterion = torch.nn.MSELoss(reduce=False)"
   ]
  },
  {
   "cell_type": "code",
   "execution_count": 5,
   "metadata": {},
   "outputs": [],
   "source": [
    "all_window_loss = []\n",
    "for X, Y in dataloader:\n",
    "    X_tensor = X.float().to(device)\n",
    "    Y_tensor = Y.float().to(device)\n",
    "\n",
    "    batch_size, output_size = Y.shape\n",
    "    N = 100\n",
    "    N_predictions = torch.zeros([N, batch_size, output_size])\n",
    "\n",
    "    for i in range(N):\n",
    "        N_predictions[i,:,:] = model(X_tensor)\n",
    "\n",
    "    prediction_mean = torch.mean(N_predictions, dim=0)\n",
    "    prediction_std = torch.std(N_predictions, dim=0)\n",
    "\n",
    "    loss_full = loss_criterion(prediction_mean, Y_tensor)\n",
    "\n",
    "    lower_y = prediction_mean - 2*prediction_std\n",
    "    upper_y = prediction_mean + 2*prediction_std\n",
    "    within_lower = Y_tensor > lower_y\n",
    "    within_upper = Y_tensor < upper_y\n",
    "    within_range = within_lower & within_upper\n",
    "\n",
    "    loss_full[within_range] = 0\n",
    "\n",
    "    for j in range(batch_size):\n",
    "        window_loss = torch.sum(loss_full[j,:]) / torch.numel(loss_full[j,:])\n",
    "        all_window_loss.append(window_loss.item())"
   ]
  },
  {
   "cell_type": "code",
   "execution_count": 6,
   "metadata": {},
   "outputs": [
    {
     "data": {
      "image/png": "[encoded data removed]",
      "text/plain": [
       "<Figure size 432x288 with 1 Axes>"
      ]
     },
     "metadata": {
      "image/png": {
       "height": 250,
       "width": 373
      }
     },
     "output_type": "display_data"
    }
   ],
   "source": [
    "losses_no_outliers = np.sort(all_window_loss)[:int(0.95*len(all_window_loss))]\n",
    "plt.hist(losses_no_outliers, bins='auto' ,density=True)\n",
    "plt.show()"
   ]
  },
  {
   "cell_type": "code",
   "execution_count": 7,
   "metadata": {},
   "outputs": [],
   "source": [
    "hist, bin_edges=np.histogram(losses_no_outliers, bins=655)"
   ]
  },
  {
   "cell_type": "code",
   "execution_count": 8,
   "metadata": {},
   "outputs": [
    {
     "data": {
      "text/plain": [
       "<BarContainer object of 655 artists>"
      ]
     },
     "execution_count": 8,
     "metadata": {},
     "output_type": "execute_result"
    },
    {
     "data": {
      "image/png": "[encoded data removed]",
      "text/plain": [
       "<Figure size 432x288 with 1 Axes>"
      ]
     },
     "metadata": {
      "image/png": {
       "height": 250,
       "width": 386
      }
     },
     "output_type": "display_data"
    }
   ],
   "source": [
    "plt.bar(x=bin_edges[:-1], height=hist,width=0.001)"
   ]
  },
  {
   "cell_type": "code",
   "execution_count": 10,
   "metadata": {},
   "outputs": [],
   "source": []
  },
  {
   "cell_type": "code",
   "execution_count": 30,
   "metadata": {},
   "outputs": [
    {
     "data": {
      "image/png": "[encoded data removed]",
      "text/plain": [
       "<Figure size 432x288 with 1 Axes>"
      ]
     },
     "metadata": {
      "image/png": {
       "height": 250,
       "width": 370
      }
     },
     "output_type": "display_data"
    }
   ],
   "source": [
    "sample = np.random.choice(losses_no_outliers, 655)\n",
    "plt.hist(sample, bins='auto' ,density=True)\n",
    "plt.show()"
   ]
  },
  {
   "cell_type": "code",
   "execution_count": 31,
   "metadata": {},
   "outputs": [
    {
     "data": {
      "text/plain": [
       "0.03160665184259415"
      ]
     },
     "execution_count": 31,
     "metadata": {},
     "output_type": "execute_result"
    }
   ],
   "source": []
  },
  {
   "cell_type": "code",
   "execution_count": 34,
   "metadata": {},
   "outputs": [],
   "source": [
    "np.save('../results/testset_error_distribution',losses_no_outliers)"
   ]
  },
  {
   "cell_type": "code",
   "execution_count": null,
   "metadata": {},
   "outputs": [],
   "source": []
  }
 ],
 "metadata": {
  "kernelspec": {
   "display_name": "Python 3",
   "language": "python",
   "name": "python3"
  },
  "language_info": {
   "codemirror_mode": {
    "name": "ipython",
    "version": 3
   },
   "file_extension": ".py",
   "mimetype": "text/x-python",
   "name": "python",
   "nbconvert_exporter": "python",
   "pygments_lexer": "ipython3",
   "version": "3.6.4"
  }
 },
 "nbformat": 4,
 "nbformat_minor": 2
}
