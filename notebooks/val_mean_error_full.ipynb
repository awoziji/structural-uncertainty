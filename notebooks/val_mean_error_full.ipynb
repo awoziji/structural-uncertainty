{
 "cells": [
  {
   "cell_type": "code",
   "execution_count": 1,
   "metadata": {},
   "outputs": [],
   "source": [
    "import numpy as np\n",
    "import os\n",
    "import torch\n",
    "import torch.nn as nn\n",
    "import torch.optim as optim\n",
    "import torch.nn.init as init\n",
    "import torch.nn.functional as F\n",
    "from torch.utils.data import Dataset, DataLoader\n",
    "\n",
    "import matplotlib.pyplot as plt\n",
    "%matplotlib inline\n",
    "%config InlineBackend.figure_format = 'retina'"
   ]
  },
  {
   "cell_type": "code",
   "execution_count": 2,
   "metadata": {},
   "outputs": [],
   "source": [
    "\n",
    "class z24Dataset(Dataset):\n",
    "    def __init__(self, mode='training', window_size=100, normalize=True):\n",
    "        self.window_size = window_size\n",
    "        self.slices_per_file = 65536 // self.window_size\n",
    "        self.normalize = normalize\n",
    "        self.mode = mode\n",
    "        \n",
    "        if mode == 'training':\n",
    "            self.index_file = np.loadtxt('../tools/training_set_index.txt',dtype=str)\n",
    "        elif mode == 'testing' :\n",
    "            self.index_file = np.loadtxt('../tools/test_set_index.txt',dtype=str)\n",
    "        elif mode == 'validating':\n",
    "            self.index_file = np.loadtxt('../tools/validation_set_index.txt',dtype=str)\n",
    "        elif mode == 'damage':\n",
    "            self.index_file = np.loadtxt('../tools/damage_set_index.txt',dtype=str)\n",
    "        \n",
    "        self.name_index_dict = dict(zip(range(len(self.index_file)),list(self.index_file)))\n",
    "        \n",
    "        self.env_mean = np.load('../tools/env_mean.npy')\n",
    "        self.env_std = np.load('../tools/env_std.npy')\n",
    "        self.vibration_mean = np.load('../tools/vibration_mean.npy')\n",
    "        self.vibration_std = np.load('../tools/vibration_std.npy')\n",
    "\n",
    "    def __len__(self):\n",
    "        return len(self.index_file) * self.slices_per_file\n",
    "\n",
    "    def __getitem__(self, index):\n",
    "        index_to_read = index // self.slices_per_file\n",
    "        file_to_read = self.name_index_dict[index_to_read]\n",
    "        index_in_dataframe = (index - index_to_read*self.slices_per_file) * self.window_size\n",
    "        \n",
    "        if self.mode == 'damage':\n",
    "            file_path_vib = '../data/z24_damage/7_clean/'+file_to_read+'_vibrations.npy'\n",
    "            file_path_env = '../data/z24_damage/7_clean/'+file_to_read+'_env.npy'\n",
    "        else:\n",
    "            file_path_vib = '../data/z24_clean/'+file_to_read+'_vibrations.npy'\n",
    "            file_path_env = '../data/z24_clean/'+file_to_read+'_env.npy'\n",
    "        \n",
    "        memmap_vib = np.memmap(file_path_vib, dtype=np.float64, mode='r', shape=(65536, 7))\n",
    "        memmap_env = np.memmap(file_path_env, dtype=np.float64, mode='r', shape=(53,))\n",
    "\n",
    "        X_environmental = np.array(memmap_env[:])\n",
    "        X_vibration_window = np.array(memmap_vib[index_in_dataframe:index_in_dataframe+self.window_size,:])\n",
    "\n",
    "        if self.normalize:\n",
    "            X_vibration_window = (X_vibration_window - self.vibration_mean) / self.vibration_std\n",
    "            X_environmental = (X_environmental - self.env_mean) / self.env_std\n",
    "        \n",
    "        X_vib_and_env = np.append(X_vibration_window.flatten(),X_environmental)\n",
    "       \n",
    "        return X_vib_and_env, X_vibration_window.flatten()\n",
    "    \n",
    "class Model(nn.Module):\n",
    "    def __init__(self, input_size, hidden_size, z_size, output_size, dropout_p):\n",
    "        super(Model, self).__init__()\n",
    "        self.dropout_p = dropout_p\n",
    "\n",
    "        self.h1 = nn.Linear(input_size, hidden_size)\n",
    "        self.z  = nn.Linear(hidden_size, z_size)\n",
    "        self.h2 = nn.Linear(z_size, hidden_size)\n",
    "        self.h3 = nn.Linear(hidden_size, output_size)\n",
    "\n",
    "    def forward(self, x):\n",
    "        x = F.dropout(x, p=self.dropout_p, training=True)\n",
    "        x = F.leaky_relu(self.h1(x))\n",
    "        x = F.dropout(x, p=self.dropout_p, training=True)\n",
    "        x = F.leaky_relu(self.z(x))\n",
    "        x = F.dropout(x, p=self.dropout_p, training=True)\n",
    "        x = F.leaky_relu(self.h2(x))\n",
    "        x = F.dropout(x, p=self.dropout_p, training=True)\n",
    "        x = self.h3(x)\n",
    "        return x"
   ]
  },
  {
   "cell_type": "code",
   "execution_count": 3,
   "metadata": {},
   "outputs": [
    {
     "name": "stderr",
     "output_type": "stream",
     "text": [
      "/home/dsteinar/miniconda3/lib/python3.6/site-packages/torch/serialization.py:333: UserWarning: Couldn't retrieve source code for container of type Model. It won't be checked for correctness upon loading.\n",
      "  \"type \" + container_type.__name__ + \". It won't be checked \"\n"
     ]
    }
   ],
   "source": [
    "        \n",
    "device = torch.device('cuda' if torch.cuda.is_available() else 'cpu')\n",
    "batch_size = 100\n",
    "\n",
    "dataset = z24Dataset(mode='validating', window_size=100, normalize=True)\n",
    "dataloader = DataLoader(dataset, batch_size=batch_size, shuffle=False, num_workers=4)\n",
    "\n",
    "model = torch.load(f='../results/trained_autoencoder_correct.pt', map_location='cpu')\n",
    "loss_criterion = torch.nn.MSELoss(reduce=False)\n"
   ]
  },
  {
   "cell_type": "code",
   "execution_count": 81,
   "metadata": {},
   "outputs": [],
   "source": [
    "\n",
    "all_window_loss = np.zeros([len(dataset), 100,7])\n",
    "i = 0\n",
    "for X, Y in dataloader:\n",
    "    X_tensor = X.float().to(device)\n",
    "    Y_tensor = Y.float().to(device)\n",
    "\n",
    "    batch_size, output_size = Y.shape\n",
    "\n",
    "    prediction = model(X_tensor)\n",
    "\n",
    "    loss_full = loss_criterion(prediction, Y_tensor)\n",
    "\n",
    "    for j in range(batch_size):\n",
    "        window_loss = loss_full[j,:].detach().numpy()\n",
    "        window_reshaped = np.reshape(window_loss, (100,7))\n",
    "        all_window_loss[i,:,:] = window_reshaped\n",
    "        \n",
    "        i += 1"
   ]
  },
  {
   "cell_type": "code",
   "execution_count": 82,
   "metadata": {},
   "outputs": [],
   "source": [
    "final_val_errors = np.concatenate(all_window_loss)"
   ]
  },
  {
   "cell_type": "code",
   "execution_count": 83,
   "metadata": {},
   "outputs": [],
   "source": [
    "final_val_means = np.mean(final_val_errors, axis=0)"
   ]
  },
  {
   "cell_type": "code",
   "execution_count": 84,
   "metadata": {},
   "outputs": [
    {
     "data": {
      "text/plain": [
       "array([1.56995665, 0.16797441, 0.04519734, 1.30170161, 0.21970809,\n",
       "       0.45176848, 0.69102833])"
      ]
     },
     "execution_count": 84,
     "metadata": {},
     "output_type": "execute_result"
    }
   ],
   "source": [
    "final_val_means"
   ]
  },
  {
   "cell_type": "code",
   "execution_count": 78,
   "metadata": {},
   "outputs": [
    {
     "data": {
      "text/plain": [
       "(720500, 7)"
      ]
     },
     "execution_count": 78,
     "metadata": {},
     "output_type": "execute_result"
    }
   ],
   "source": [
    "test.shape"
   ]
  },
  {
   "cell_type": "code",
   "execution_count": 79,
   "metadata": {},
   "outputs": [
    {
     "data": {
      "text/plain": [
       "7205"
      ]
     },
     "execution_count": 79,
     "metadata": {},
     "output_type": "execute_result"
    }
   ],
   "source": [
    "len(dataset)"
   ]
  },
  {
   "cell_type": "code",
   "execution_count": 80,
   "metadata": {},
   "outputs": [
    {
     "data": {
      "text/plain": [
       "7205"
      ]
     },
     "execution_count": 80,
     "metadata": {},
     "output_type": "execute_result"
    }
   ],
   "source": []
  },
  {
   "cell_type": "code",
   "execution_count": null,
   "metadata": {},
   "outputs": [],
   "source": []
  }
 ],
 "metadata": {
  "kernelspec": {
   "display_name": "Python 3",
   "language": "python",
   "name": "python3"
  },
  "language_info": {
   "codemirror_mode": {
    "name": "ipython",
    "version": 3
   },
   "file_extension": ".py",
   "mimetype": "text/x-python",
   "name": "python",
   "nbconvert_exporter": "python",
   "pygments_lexer": "ipython3",
   "version": "3.6.4"
  }
 },
 "nbformat": 4,
 "nbformat_minor": 2
}
