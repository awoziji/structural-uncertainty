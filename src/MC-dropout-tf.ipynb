{
 "cells": [
  {
   "cell_type": "code",
   "execution_count": 1,
   "metadata": {
    "collapsed": true
   },
   "outputs": [],
   "source": [
    "from __future__ import absolute_import\n",
    "from __future__ import division\n",
    "from __future__ import print_function\n",
    "\n",
    "import numpy as np\n",
    "import tensorflow as tf\n",
    "\n",
    "tf.logging.set_verbosity(tf.logging.INFO)"
   ]
  },
  {
   "cell_type": "code",
   "execution_count": 23,
   "metadata": {
    "collapsed": true
   },
   "outputs": [],
   "source": [
    "data = np.loadtxt('concrete.txt')\n",
    "np.random.shuffle(data)\n",
    "cutoff = int(len(data)*0.8)\n",
    "X_train, y_train  = data[:cutoff, :-1], data[:cutoff, -1]\n",
    "X_test, y_test = data[cutoff:, :-1], data[cutoff:, -1]"
   ]
  },
  {
   "cell_type": "code",
   "execution_count": 24,
   "metadata": {
    "collapsed": true
   },
   "outputs": [],
   "source": [
    "std_X_train = np.std(X_train, 0)\n",
    "std_X_train[std_X_train == 0] = 1\n",
    "mean_X_train = np.mean(X_train, 0)\n",
    "X_train = (X_train - np.full(X_train.shape, mean_X_train)) / np.full(X_train.shape, std_X_train)\n",
    "X_test = (X_test - np.full(X_test.shape, mean_X_train)) / np.full(X_test.shape, std_X_train)"
   ]
  },
  {
   "cell_type": "code",
   "execution_count": 25,
   "metadata": {
    "collapsed": true
   },
   "outputs": [],
   "source": [
    "#mean_y_train = np.mean(y_train)\n",
    "#std_y_train = np.std(y_train)\n",
    "\n",
    "#y_train = (y_train - mean_y_train) / std_y_train\n",
    "#y_train = np.array(y_train, ndmin = 2).T.flatten()\n",
    "\n",
    "#y_test = (y_test - mean_y_train) / std_y_train"
   ]
  },
  {
   "cell_type": "code",
   "execution_count": 26,
   "metadata": {
    "collapsed": true
   },
   "outputs": [],
   "source": [
    "# Set model params\n",
    "model_params = {\"learning_rate\": 0.001,\n",
    "                \"dropout\": 0.01,\n",
    "                \"hidden_width\": 50}"
   ]
  },
  {
   "cell_type": "code",
   "execution_count": 27,
   "metadata": {
    "collapsed": true
   },
   "outputs": [],
   "source": [
    "def model_fn(features, labels, mode, params):\n",
    "    '''\n",
    "    features: A dict containing the features passed to the model via input_fn.\n",
    "    labels: A Tensor containing the labels passed to the model via input_fn. \n",
    "            Will be empty for predict() calls, as these are the values the model will infer.\n",
    "    mode: One of the following tf.estimator.ModeKeys string values indicating the context in which \n",
    "          the model_fn was invoked\n",
    "          \n",
    "    Return: tf.estimator.EstimatorSpec object\n",
    "    '''\n",
    "    ### 1. Configure the model via TensorFlow operations\n",
    "    \n",
    "    # Connect the first hidden layer to input layer\n",
    "    # (features[\"x\"]) with relu activation\n",
    "    \n",
    "    dropout_1 = tf.layers.dropout(inputs=features[\"x\"],\n",
    "                            rate=params['dropout'],\n",
    "                            training=True)\n",
    "    \n",
    "    hidden_layer = tf.layers.dense(dropout_1, \n",
    "                                         units=params['hidden_width'],\n",
    "                                         activation=tf.nn.relu)\n",
    "\n",
    "    dropout_2 = tf.layers.dropout(inputs=hidden_layer,\n",
    "                                rate=params['dropout'],\n",
    "                                training=True)\n",
    "\n",
    "    output_layer = tf.layers.dense(dropout_2, \n",
    "                                   units=1)\n",
    "\n",
    "    predictions = tf.reshape(output_layer, [-1])\n",
    "    \n",
    "    # Provide an estimator spec for `ModeKeys.PREDICT`.\n",
    "    if mode == tf.estimator.ModeKeys.PREDICT:\n",
    "        return tf.estimator.EstimatorSpec(mode=mode,\n",
    "                                          predictions={\"y\": predictions})\n",
    "    \n",
    "    onehot_labels = tf.one_hot(indices=tf.cast(labels, tf.int32), depth=10)\n",
    "    \n",
    "    loss = tf.losses.softmax_cross_entropy(onehot_labels=onehot_labels, logits=logits)\n",
    "    \n",
    "    ### 2. Define the loss function for training/evaluation\n",
    "    loss = tf.losses.mean_squared_error(labels, predictions)\n",
    "    eval_metric_ops = {\"rmse\": \n",
    "                       tf.metrics.root_mean_squared_error(tf.cast(labels, tf.float64), predictions)}\n",
    "    \n",
    "    ### 3. Define the training operation/optimizer\n",
    "    optimizer = tf.train.AdamOptimizer(learning_rate=params[\"learning_rate\"])\n",
    "    train_op = optimizer.minimize(loss=loss, global_step=tf.train.get_global_step())\n",
    "    \n",
    "    \n",
    "    ### 4. Return predictions/loss/train_op/eval_metric_ops in EstimatorSpec object\n",
    "    \n",
    "    return tf.estimator.EstimatorSpec(mode=mode,\n",
    "                                      loss=loss,\n",
    "                                      train_op=train_op,\n",
    "                                      eval_metric_ops=eval_metric_ops)"
   ]
  },
  {
   "cell_type": "code",
   "execution_count": 28,
   "metadata": {},
   "outputs": [
    {
     "name": "stdout",
     "output_type": "stream",
     "text": [
      "WARNING:tensorflow:Using temporary folder as model directory: /tmp/tmpc1j8auxb\n",
      "INFO:tensorflow:Using default config.\n",
      "INFO:tensorflow:Using config: {}\n"
     ]
    }
   ],
   "source": [
    "# Instantiate Estimator\n",
    "nn = tf.estimator.Estimator(model_fn=model_fn, params=model_params)"
   ]
  },
  {
   "cell_type": "code",
   "execution_count": 29,
   "metadata": {
    "collapsed": true
   },
   "outputs": [],
   "source": [
    "train_input_fn = tf.estimator.inputs.numpy_input_fn(\n",
    "    x={\"x\": X_train},\n",
    "    y=y_train_normalized,\n",
    "    batch_size=32,\n",
    "    num_epochs=None,\n",
    "    shuffle=False)"
   ]
  },
  {
   "cell_type": "code",
   "execution_count": 30,
   "metadata": {
    "scrolled": true
   },
   "outputs": [
    {
     "name": "stdout",
     "output_type": "stream",
     "text": [
      "INFO:tensorflow:Create CheckpointSaverHook.\n",
      "INFO:tensorflow:Saving checkpoints for 1 into /tmp/tmpc1j8auxb/model.ckpt.\n",
      "INFO:tensorflow:loss = 1.48527, step = 1\n",
      "INFO:tensorflow:global_step/sec: 694.986\n",
      "INFO:tensorflow:loss = 1.27576, step = 101 (0.145 sec)\n",
      "INFO:tensorflow:global_step/sec: 703.065\n",
      "INFO:tensorflow:loss = 1.00183, step = 201 (0.142 sec)\n",
      "INFO:tensorflow:global_step/sec: 760.804\n",
      "INFO:tensorflow:loss = 1.03118, step = 301 (0.131 sec)\n",
      "INFO:tensorflow:global_step/sec: 802.458\n",
      "INFO:tensorflow:loss = 0.996618, step = 401 (0.125 sec)\n",
      "INFO:tensorflow:global_step/sec: 791.044\n",
      "INFO:tensorflow:loss = 1.1489, step = 501 (0.126 sec)\n",
      "INFO:tensorflow:global_step/sec: 785.327\n",
      "INFO:tensorflow:loss = 1.04687, step = 601 (0.127 sec)\n",
      "INFO:tensorflow:global_step/sec: 807.938\n",
      "INFO:tensorflow:loss = 0.86468, step = 701 (0.124 sec)\n",
      "INFO:tensorflow:global_step/sec: 728.685\n",
      "INFO:tensorflow:loss = 0.92369, step = 801 (0.137 sec)\n",
      "INFO:tensorflow:global_step/sec: 811.92\n",
      "INFO:tensorflow:loss = 0.905444, step = 901 (0.123 sec)\n",
      "INFO:tensorflow:global_step/sec: 729.867\n",
      "INFO:tensorflow:loss = 0.816482, step = 1001 (0.137 sec)\n",
      "INFO:tensorflow:global_step/sec: 756.246\n",
      "INFO:tensorflow:loss = 1.09096, step = 1101 (0.134 sec)\n",
      "INFO:tensorflow:global_step/sec: 776.335\n",
      "INFO:tensorflow:loss = 0.72819, step = 1201 (0.127 sec)\n",
      "INFO:tensorflow:Saving checkpoints for 1280 into /tmp/tmpc1j8auxb/model.ckpt.\n",
      "INFO:tensorflow:Loss for final step: 0.988274.\n"
     ]
    },
    {
     "data": {
      "text/plain": [
       "<tensorflow.python.estimator.estimator.Estimator at 0x7af494737d30>"
      ]
     },
     "execution_count": 30,
     "metadata": {},
     "output_type": "execute_result"
    }
   ],
   "source": [
    "# Train\n",
    "nn.train(input_fn=train_input_fn,steps=40*32)"
   ]
  },
  {
   "cell_type": "code",
   "execution_count": 31,
   "metadata": {
    "collapsed": true
   },
   "outputs": [],
   "source": [
    "# Score accuracy\n",
    "test_input_fn = tf.estimator.inputs.numpy_input_fn(\n",
    "    x={\"x\": X_test},\n",
    "    y=y_test,\n",
    "    num_epochs=1,\n",
    "    shuffle=False)"
   ]
  },
  {
   "cell_type": "code",
   "execution_count": 32,
   "metadata": {},
   "outputs": [
    {
     "name": "stdout",
     "output_type": "stream",
     "text": [
      "INFO:tensorflow:Starting evaluation at 2017-11-24-00:24:35\n",
      "INFO:tensorflow:Restoring parameters from /tmp/tmpc1j8auxb/model.ckpt-1280\n",
      "INFO:tensorflow:Finished evaluation at 2017-11-24-00:24:35\n",
      "INFO:tensorflow:Saving dict for global step 1280: global_step = 1280, loss = 1626.94, rmse = 40.4263\n",
      "WARNING:tensorflow:Skipping summary for global_step, must be a float or np.float32.\n",
      "Loss: 1626.94\n",
      "Root Mean Squared Error: 40.4263\n"
     ]
    }
   ],
   "source": [
    "ev = nn.evaluate(input_fn=test_input_fn)\n",
    "print(\"Loss: %s\" % ev[\"loss\"])\n",
    "print(\"Root Mean Squared Error: %s\" % ev[\"rmse\"])"
   ]
  },
  {
   "cell_type": "code",
   "execution_count": 33,
   "metadata": {},
   "outputs": [
    {
     "ename": "NameError",
     "evalue": "name 'predictions' is not defined",
     "output_type": "error",
     "traceback": [
      "\u001b[0;31m---------------------------------------------------------------------------\u001b[0m",
      "\u001b[0;31mNameError\u001b[0m                                 Traceback (most recent call last)",
      "\u001b[0;32m<ipython-input-33-caac54550d17>\u001b[0m in \u001b[0;36m<module>\u001b[0;34m()\u001b[0m\n\u001b[0;32m----> 1\u001b[0;31m \u001b[0;32mfor\u001b[0m \u001b[0mindex\u001b[0m\u001b[0;34m,\u001b[0m \u001b[0mprediction_dictionary\u001b[0m \u001b[0;32min\u001b[0m \u001b[0menumerate\u001b[0m\u001b[0;34m(\u001b[0m\u001b[0mpredictions\u001b[0m\u001b[0;34m)\u001b[0m\u001b[0;34m:\u001b[0m\u001b[0;34m\u001b[0m\u001b[0m\n\u001b[0m\u001b[1;32m      2\u001b[0m     \u001b[0mprint\u001b[0m\u001b[0;34m(\u001b[0m\u001b[0;34mf\"Prediction {index}, {prediction_dictionary['y']} \"\u001b[0m\u001b[0;34m)\u001b[0m\u001b[0;34m\u001b[0m\u001b[0m\n",
      "\u001b[0;31mNameError\u001b[0m: name 'predictions' is not defined"
     ]
    }
   ],
   "source": [
    "for index, prediction_dictionary in enumerate(predictions):\n",
    "    print(f\"Prediction {index}, {prediction_dictionary['y']} \")"
   ]
  },
  {
   "cell_type": "code",
   "execution_count": null,
   "metadata": {
    "collapsed": true
   },
   "outputs": [],
   "source": []
  }
 ],
 "metadata": {
  "kernelspec": {
   "display_name": "Python 3",
   "language": "python",
   "name": "python3"
  },
  "language_info": {
   "codemirror_mode": {
    "name": "ipython",
    "version": 3
   },
   "file_extension": ".py",
   "mimetype": "text/x-python",
   "name": "python",
   "nbconvert_exporter": "python",
   "pygments_lexer": "ipython3",
   "version": "3.6.2"
  }
 },
 "nbformat": 4,
 "nbformat_minor": 2
}
