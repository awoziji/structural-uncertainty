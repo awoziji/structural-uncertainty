{
 "cells": [
  {
   "cell_type": "code",
   "execution_count": 322,
   "metadata": {
    "collapsed": true
   },
   "outputs": [],
   "source": [
    "import numpy as np\n",
    "import torch\n",
    "import torch.nn as nn\n",
    "import torch.utils.data\n",
    "from torch.autograd import Variable\n",
    "import matplotlib.pyplot as plt\n",
    "%matplotlib inline"
   ]
  },
  {
   "cell_type": "code",
   "execution_count": 328,
   "metadata": {},
   "outputs": [],
   "source": [
    "data = np.loadtxt('../data/concrete.txt',dtype=np.float32)\n",
    "np.random.shuffle(data)\n",
    "\n",
    "cutoff = int(len(data)*0.8)\n",
    "X_train, Y_train  = data[:cutoff, :-1], data[:cutoff, -1]\n",
    "X_test, Y_test = data[cutoff:, :-1], data[cutoff:, -1]\n",
    "\n",
    "std_X_train = np.std(X_train, 0)\n",
    "std_X_train[std_X_train == 0] = 1\n",
    "mean_X_train = np.mean(X_train, 0)\n",
    "\n",
    "X_train_norm = (X_train - np.full(X_train.shape, mean_X_train)) / np.full(X_train.shape, std_X_train)\n",
    "X_test_norm = (X_test - np.full(X_test.shape, mean_X_train)) / np.full(X_test.shape, std_X_train)\n",
    "\n",
    "mean_Y_train = np.mean(Y_train)\n",
    "std_Y_train = np.std(Y_train)\n",
    "\n",
    "Y_train_norm = (Y_train - mean_Y_train) / std_Y_train\n",
    "Y_train_norm = np.array(Y_train_norm, ndmin = 2).T\n",
    "\n",
    "Y_test_norm = (Y_test - mean_Y_train) / std_Y_train\n",
    "Y_test_norm = np.array(Y_test_norm, ndmin = 2).T"
   ]
  },
  {
   "cell_type": "code",
   "execution_count": 329,
   "metadata": {
    "collapsed": true
   },
   "outputs": [],
   "source": [
    "model_params = {\"learning_rate\": 0.001,\n",
    "                \"dropout\": 0.01,\n",
    "                \"hidden_width\": 50,\n",
    "                \"batch_size\": 32,\n",
    "                \"n_epoch\": 40}"
   ]
  },
  {
   "cell_type": "code",
   "execution_count": 330,
   "metadata": {},
   "outputs": [],
   "source": [
    "X_train_tensor = torch.from_numpy(X_train_norm)\n",
    "Y_train_tensor = torch.from_numpy(Y_train_norm)\n",
    "X_test_tensor  = torch.from_numpy(X_test_norm)\n",
    "Y_test_tensor  = torch.from_numpy(Y_test_norm)\n",
    "\n",
    "train_tensor_dataset = torch.utils.data.TensorDataset(X_train_tensor, Y_train_tensor)\n",
    "test_tensor_dataset = torch.utils.data.TensorDataset(X_test_tensor, Y_test_tensor)\n",
    "\n",
    "data_loader_train = torch.utils.data.DataLoader(dataset=train_tensor_dataset, \n",
    "                                          batch_size=128, \n",
    "                                          shuffle=True,\n",
    "                                          num_workers=4)\n",
    "\n",
    "data_loader_test = torch.utils.data.DataLoader(dataset=test_tensor_dataset, \n",
    "                                          batch_size=128, \n",
    "                                          shuffle=False,\n",
    "                                          num_workers=4)"
   ]
  },
  {
   "cell_type": "code",
   "execution_count": 334,
   "metadata": {},
   "outputs": [],
   "source": [
    "# Neural Network Model (1 hidden layer)\n",
    "class Net(nn.Module):\n",
    "    def __init__(self, input_size, hidden_size, output_size):\n",
    "        super(Net, self).__init__()\n",
    "        self.fc1 = nn.Linear(input_size, hidden_size) \n",
    "        self.relu = nn.ReLU()\n",
    "        self.fc2 = nn.Linear(hidden_size, output_size)  \n",
    "    \n",
    "    def forward(self, x):\n",
    "        x = F.dropout(x, p=0.01, training=True)\n",
    "        x = self.fc1(x)\n",
    "        x = self.relu(x)\n",
    "        x = F.dropout(x, p=0.01, training=True)\n",
    "        y = self.fc2(x)\n",
    "        return y\n",
    "    \n",
    "model = Net(input_size=8, hidden_size=50, output_size=1)"
   ]
  },
  {
   "cell_type": "code",
   "execution_count": 335,
   "metadata": {
    "collapsed": true
   },
   "outputs": [],
   "source": [
    "loss_criterion = torch.nn.MSELoss()\n",
    "optimizer = torch.optim.Adam(model.parameters(), lr=0.001, weight_decay=0.1)#1.0778889384649698e-06)"
   ]
  },
  {
   "cell_type": "code",
   "execution_count": 336,
   "metadata": {},
   "outputs": [
    {
     "name": "stdout",
     "output_type": "stream",
     "text": [
      "Epoch 0, loss 0.8742383122444153\n",
      "Epoch 10, loss 0.5356131792068481\n",
      "Epoch 20, loss 0.445757120847702\n",
      "Epoch 30, loss 0.2821389138698578\n",
      "Root mean square error: 0.5627486950737607\n"
     ]
    }
   ],
   "source": [
    "# Train the Model\n",
    "for epoch in range(40):\n",
    "    for batch_index, (X, Y) in enumerate(data_loader_train):  \n",
    "        # Convert torch tensor to Variable\n",
    "        X_tensor = Variable(X).float()\n",
    "        Y_tensor = Variable(Y).float()\n",
    "        \n",
    "        # Forward + Backward + Optimize\n",
    "        optimizer.zero_grad()  # zero the gradient buffer\n",
    "        predicted_Y = model(X_tensor)\n",
    "        loss = loss_criterion(predicted_Y, Y_tensor)\n",
    "        loss.backward()\n",
    "        optimizer.step()\n",
    "        \n",
    "    if epoch % (10) == 0:\n",
    "        print('Epoch {}, loss {}'.format(epoch,loss.data[0]))\n",
    "print('Root mean square error: {}'.format(np.sqrt(np.mean(loss.data[0]))))"
   ]
  },
  {
   "cell_type": "code",
   "execution_count": 261,
   "metadata": {},
   "outputs": [],
   "source": [
    "# Test the Model\n",
    "mse = 0\n",
    "for X, Y in data_loader_test:\n",
    "    X_tensor = Variable(X).float()\n",
    "    Y_tensor = Variable(Y).float()\n",
    "    Y_predict = net(X_tensor)\n",
    "    total += Y.size(0)\n",
    "    #mse += Y_tensor.view(-1) - Y_predict.view(-1)"
   ]
  },
  {
   "cell_type": "code",
   "execution_count": 262,
   "metadata": {},
   "outputs": [
    {
     "data": {
      "text/plain": [
       "Variable containing:\n",
       " 6.1953\n",
       "[torch.FloatTensor of size 1]"
      ]
     },
     "execution_count": 262,
     "metadata": {},
     "output_type": "execute_result"
    }
   ],
   "source": [
    "torch.sqrt(torch.mean(Y_tensor.view(-1) - Y_predict.view(-1)))"
   ]
  },
  {
   "cell_type": "code",
   "execution_count": 294,
   "metadata": {},
   "outputs": [],
   "source": [
    "v = []\n",
    "for _ in range(100):\n",
    "    v.append( net(torch.from_numpy(X_test_norm[1,:])).data.numpy().item() )"
   ]
  },
  {
   "cell_type": "code",
   "execution_count": 297,
   "metadata": {},
   "outputs": [
    {
     "data": {
      "text/plain": [
       "0.32891482293605806"
      ]
     },
     "execution_count": 297,
     "metadata": {},
     "output_type": "execute_result"
    }
   ],
   "source": [
    "np.mean(v)"
   ]
  },
  {
   "cell_type": "code",
   "execution_count": 299,
   "metadata": {},
   "outputs": [
    {
     "data": {
      "text/plain": [
       "0.045830732844034723"
      ]
     },
     "execution_count": 299,
     "metadata": {},
     "output_type": "execute_result"
    }
   ],
   "source": [
    "np.std(v)"
   ]
  },
  {
   "cell_type": "code",
   "execution_count": 317,
   "metadata": {},
   "outputs": [
    {
     "data": {
      "text/plain": [
       "1.0778889384649698e-06"
      ]
     },
     "execution_count": 317,
     "metadata": {},
     "output_type": "execute_result"
    }
   ],
   "source": []
  }
 ],
 "metadata": {
  "kernelspec": {
   "display_name": "Python 3",
   "language": "python",
   "name": "python3"
  },
  "language_info": {
   "codemirror_mode": {
    "name": "ipython",
    "version": 3
   },
   "file_extension": ".py",
   "mimetype": "text/x-python",
   "name": "python",
   "nbconvert_exporter": "python",
   "pygments_lexer": "ipython3",
   "version": "3.6.2"
  }
 },
 "nbformat": 4,
 "nbformat_minor": 2
}
