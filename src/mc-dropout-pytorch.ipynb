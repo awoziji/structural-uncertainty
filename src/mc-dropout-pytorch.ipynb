{
 "cells": [
  {
   "cell_type": "code",
   "execution_count": 1,
   "metadata": {
    "collapsed": true
   },
   "outputs": [],
   "source": [
    "import numpy as np\n",
    "import torch\n",
    "from torch.autograd import Variable\n",
    "import torch.nn.functional as F\n",
    "import torch.utils.data"
   ]
  },
  {
   "cell_type": "code",
   "execution_count": 2,
   "metadata": {
    "collapsed": true
   },
   "outputs": [],
   "source": [
    "data = np.loadtxt('../data/concrete.txt')\n",
    "np.random.shuffle(data)\n",
    "\n",
    "cutoff = int(len(data)*0.8)\n",
    "X_train, Y_train  = data[:cutoff, :-1], data[:cutoff, -1]\n",
    "X_test, Y_test = data[cutoff:, :-1], data[cutoff:, -1]\n",
    "\n",
    "std_X_train = np.std(X_train, axis=0)\n",
    "mean_X_train = np.mean(X_train, axis=0)\n",
    "\n",
    "X_train_norm = (X_train - std_X_train) / mean_X_train"
   ]
  },
  {
   "cell_type": "code",
   "execution_count": 3,
   "metadata": {
    "collapsed": true
   },
   "outputs": [],
   "source": [
    "model_params = {\"learning_rate\": 0.001,\n",
    "                \"dropout\": 0.01,\n",
    "                \"hidden_width\": 50,\n",
    "               \"batch_size\": 32,\n",
    "               \"n_epoch\": 40}"
   ]
  },
  {
   "cell_type": "code",
   "execution_count": 80,
   "metadata": {
    "collapsed": true
   },
   "outputs": [],
   "source": [
    "dtype = torch.FloatTensor\n",
    "\n",
    "X_train_tensor = torch.Tensor(X_train_norm).type(dtype)\n",
    "Y_train_tensor = torch.Tensor(Y_train).type(dtype)\n",
    "\n",
    "tensor_dataset = torch.utils.data.TensorDataset(X_train_tensor, Y_train_tensor)\n",
    "data_loader = torch.utils.data.DataLoader(dataset=tensor_dataset, \n",
    "                                          batch_size=128, \n",
    "                                          shuffle=True)"
   ]
  },
  {
   "cell_type": "code",
   "execution_count": 81,
   "metadata": {
    "collapsed": true
   },
   "outputs": [],
   "source": [
    "batch_size, dim_in, hidden_width, dim_out = 32, 8, 50, 1\n",
    "\n",
    "# Use the nn package to define our model and loss function.\n",
    "model = torch.nn.Sequential(\n",
    "          torch.nn.Linear(dim_in, hidden_width),\n",
    "          torch.nn.ReLU(),\n",
    "          torch.nn.Linear(hidden_width, dim_out))\n",
    "\n",
    "loss_function = torch.nn.MSELoss(size_average=False)\n",
    "learning_rate = 1e-4\n",
    "optimizer = torch.optim.Adam(model.parameters(), lr=learning_rate)"
   ]
  },
  {
   "cell_type": "code",
   "execution_count": 82,
   "metadata": {
    "collapsed": true
   },
   "outputs": [],
   "source": [
    "losses=[]\n",
    "for epoch in range(40):\n",
    "    for i, data in enumerate(data_loader):\n",
    "        # Get each batch\n",
    "        inputs, labels = data\n",
    "        # Convert tensor into Variable\n",
    "        tensor_inputs, tensor_labels = Variable(inputs), Variable(labels).float()\n",
    "        # Zero the parameter gradients\n",
    "        optimizer.zero_grad()\n",
    "        # Forward + backward + optimize\n",
    "        outputs = model(tensor_inputs)\n",
    "        loss = loss_function(outputs, tensor_labels)\n",
    "        loss.backward()\n",
    "        optimizer.step()    \n",
    "        \n",
    "    losses.append(loss.data[0])"
   ]
  },
  {
   "cell_type": "code",
   "execution_count": 83,
   "metadata": {},
   "outputs": [
    {
     "data": {
      "text/plain": [
       "[<matplotlib.lines.Line2D at 0x7386efb5eb38>]"
      ]
     },
     "execution_count": 83,
     "metadata": {},
     "output_type": "execute_result"
    },
    {
     "data": {
      "image/png": "[encoded data removed]",
      "text/plain": [
       "<matplotlib.figure.Figure at 0x7386efb7e780>"
      ]
     },
     "metadata": {},
     "output_type": "display_data"
    }
   ],
   "source": [
    "import matplotlib.pyplot as plt\n",
    "%matplotlib inline\n",
    "plt.plot(losses)"
   ]
  },
  {
   "cell_type": "code",
   "execution_count": 76,
   "metadata": {},
   "outputs": [
    {
     "data": {
      "text/plain": [
       "torch.autograd.variable.Variable"
      ]
     },
     "execution_count": 76,
     "metadata": {},
     "output_type": "execute_result"
    }
   ],
   "source": [
    "class Net(nn.Module):\n",
    "    def __init__(self):\n",
    "        super(Net, self).__init__()\n",
    "        self.dropout = nn.Dropout()\n",
    "        self.fc1 = nn.Linear(8, 50)\n",
    "        self.fc2 = nn.Linear(50, 10)\n",
    "\n",
    "    def forward(self, x):\n",
    "        x = self.fc1(x)\n",
    "        x = F.dropout(x, training=True)\n",
    "        x = F.relu(F.max_pool2d(self.conv1(x), 2))\n",
    "        x = F.relu(F.max_pool2d(self.conv2_drop(self.conv2(x)), 2))\n",
    "        x = x.view(-1, 320)\n",
    "        x = F.relu(self.fc1(x))\n",
    "        x = F.dropout(x, training=self.training)\n",
    "        x = self.fc2(x)\n",
    "        return F.log_softmax(x)"
   ]
  }
 ],
 "metadata": {
  "kernelspec": {
   "display_name": "Python 3",
   "language": "python",
   "name": "python3"
  },
  "language_info": {
   "codemirror_mode": {
    "name": "ipython",
    "version": 3
   },
   "file_extension": ".py",
   "mimetype": "text/x-python",
   "name": "python",
   "nbconvert_exporter": "python",
   "pygments_lexer": "ipython3",
   "version": "3.6.2"
  }
 },
 "nbformat": 4,
 "nbformat_minor": 2
}
